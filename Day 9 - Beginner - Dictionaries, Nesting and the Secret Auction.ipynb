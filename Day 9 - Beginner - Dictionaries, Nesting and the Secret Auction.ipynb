{
 "cells": [
  {
   "cell_type": "markdown",
   "id": "869e2319-1a75-411e-a1c3-38b7aee4281c",
   "metadata": {},
   "source": [
    "### Dictionary"
   ]
  },
  {
   "cell_type": "raw",
   "id": "1c1d0d13-a603-4178-8646-7ff602e97534",
   "metadata": {},
   "source": [
    "Dictionary={Key:value}\n",
    "Note:-Every dictionary have to part key and value .\n",
    "Every key has to be in his actual data type.\n"
   ]
  },
  {
   "cell_type": "code",
   "execution_count": 3,
   "id": "8cddfaa6-ae55-4ca9-89cf-6bb5168fbfe7",
   "metadata": {},
   "outputs": [],
   "source": [
    "person = {\n",
    "    \"name\": \"Alice\",\n",
    "    \"age\": 30,\n",
    "    \"city\": \"New York\"\n",
    "}"
   ]
  },
  {
   "cell_type": "code",
   "execution_count": 4,
   "id": "08b0594c-bb3f-4e96-a9dc-952681c47924",
   "metadata": {},
   "outputs": [
    {
     "name": "stdout",
     "output_type": "stream",
     "text": [
      "Alice\n"
     ]
    }
   ],
   "source": [
    "# Accessing values\n",
    "print(person[\"name\"])"
   ]
  },
  {
   "cell_type": "code",
   "execution_count": 5,
   "id": "837d471c-0a3c-4ede-b39b-05cbc70b95bd",
   "metadata": {},
   "outputs": [],
   "source": [
    "# Adding a new key-value pair\n",
    "person[\"job\"] = \"Engineer\""
   ]
  },
  {
   "cell_type": "code",
   "execution_count": 6,
   "id": "6081c783-150d-434b-8865-bd10d2682c15",
   "metadata": {},
   "outputs": [],
   "source": [
    "# Updating a value\n",
    "person[\"age\"] = 31"
   ]
  },
  {
   "cell_type": "code",
   "execution_count": 7,
   "id": "42dff6b5-633e-4390-b646-91424d6e4ffe",
   "metadata": {},
   "outputs": [
    {
     "name": "stdout",
     "output_type": "stream",
     "text": [
      "{'name': 'Alice', 'age': 31, 'city': 'New York', 'job': 'Engineer'}\n"
     ]
    }
   ],
   "source": [
    "print(person)"
   ]
  },
  {
   "cell_type": "code",
   "execution_count": 8,
   "id": "beb62092-b3a2-4be2-8347-b873fe2c77d0",
   "metadata": {},
   "outputs": [],
   "source": [
    "del person[\"city\"]"
   ]
  },
  {
   "cell_type": "code",
   "execution_count": 9,
   "id": "a796c841-d835-4286-973c-24ff05977fd6",
   "metadata": {},
   "outputs": [
    {
     "name": "stdout",
     "output_type": "stream",
     "text": [
      "{'name': 'Alice', 'age': 31, 'job': 'Engineer'}\n"
     ]
    }
   ],
   "source": [
    "print(person)"
   ]
  },
  {
   "cell_type": "code",
   "execution_count": 12,
   "id": "17c33a5e-60a9-485c-8689-35614b20960d",
   "metadata": {},
   "outputs": [
    {
     "name": "stdout",
     "output_type": "stream",
     "text": [
      "{'Name': 'Kshitij chadhary', 'Reg': 34}\n"
     ]
    }
   ],
   "source": [
    "empty_dictionary={}\n",
    "#Add the value in dictionary\n",
    "\n",
    "empty_dictionary[\"Name\"]=\"Kshitij chadhary\"\n",
    "\n",
    "empty_dictionary[\"Reg\"]=34\n",
    "\n",
    "print(empty_dictionary)"
   ]
  },
  {
   "cell_type": "code",
   "execution_count": 13,
   "id": "9bb14550-03d9-4900-aa35-788250306498",
   "metadata": {},
   "outputs": [
    {
     "name": "stdout",
     "output_type": "stream",
     "text": [
      "{}\n"
     ]
    }
   ],
   "source": [
    "#Wipe an existing dictionary\n",
    "empty_dictionary={}\n",
    "print(empty_dictionary)"
   ]
  },
  {
   "cell_type": "code",
   "execution_count": 15,
   "id": "3bef6671-edef-486a-825b-7aed4023cba9",
   "metadata": {},
   "outputs": [
    {
     "name": "stdout",
     "output_type": "stream",
     "text": [
      "name\n",
      "Alice\n",
      "age\n",
      "31\n",
      "job\n",
      "Engineer\n"
     ]
    }
   ],
   "source": [
    "#Loop through the dictionary\n",
    "\n",
    "for key in person:\n",
    "    print(key)\n",
    "    print(person[key])"
   ]
  },
  {
   "cell_type": "markdown",
   "id": "52e8a2e8-e28a-49f9-9ecb-b713aa92746a",
   "metadata": {},
   "source": [
    "### Grading Program"
   ]
  },
  {
   "cell_type": "code",
   "execution_count": 17,
   "id": "cd3efeb6-4890-4bef-a0a8-8f4605298887",
   "metadata": {},
   "outputs": [
    {
     "name": "stdout",
     "output_type": "stream",
     "text": [
      "{'Harry': 'Exceeds Expectations', 'Ron': 'Acceptable', 'Hermione': 'Outstanding', 'Draco': 'Acceptable', 'Neville': 'Fail'}\n"
     ]
    }
   ],
   "source": [
    "student_scores = {\n",
    "    'Harry': 88,\n",
    "    'Ron': 78,\n",
    "    'Hermione': 95,\n",
    "    'Draco': 75,\n",
    "    'Neville': 60\n",
    "}\n",
    "\n",
    "student_grades = {}\n",
    "\n",
    "for student, score in student_scores.items():\n",
    "    if 91 <= score <= 100:\n",
    "        student_grades[student] = \"Outstanding\"\n",
    "    elif 81 <= score <= 90:\n",
    "        student_grades[student] = \"Exceeds Expectations\"\n",
    "    elif 71 <= score <= 80:\n",
    "        student_grades[student] = \"Acceptable\"\n",
    "    else:\n",
    "        student_grades[student] = \"Fail\"\n",
    "\n",
    "print(student_grades)"
   ]
  },
  {
   "cell_type": "markdown",
   "id": "f38979bb-5c24-498f-b5ed-aca68ba4f0fd",
   "metadata": {},
   "source": [
    "### Nesting Lists and Dictionaries"
   ]
  },
  {
   "cell_type": "raw",
   "id": "69d6646b-c4a2-45d7-8317-10e2301a895e",
   "metadata": {},
   "source": [
    "{\n",
    "    key_1:[List],\n",
    "    key_2:{Dict},\n",
    "}"
   ]
  },
  {
   "cell_type": "code",
   "execution_count": 21,
   "id": "71e5de92-148a-4d13-8559-42fe8c3c43e4",
   "metadata": {},
   "outputs": [],
   "source": [
    "travel_place = {\n",
    "    \"germany_places\": [\"Berlin\", \"Munich\", \"Hamburg\", \"Frankfurt\", \"Cologne\"],\n",
    "    \"france_places\": [\"Paris\", \"Lyon\", \"Marseille\", \"Nice\", \"Bordeaux\"]\n",
    "}"
   ]
  },
  {
   "cell_type": "code",
   "execution_count": 26,
   "id": "26a6ec50-f554-452f-9654-c646d2542828",
   "metadata": {},
   "outputs": [
    {
     "name": "stdout",
     "output_type": "stream",
     "text": [
      "['Berlin', 'Munich', 'Hamburg', 'Frankfurt', 'Cologne']\n"
     ]
    }
   ],
   "source": [
    "print(travel_place[\"germany_places\"])"
   ]
  },
  {
   "cell_type": "code",
   "execution_count": 28,
   "id": "a43c812c-7974-497e-96e1-7f511aa223b7",
   "metadata": {},
   "outputs": [
    {
     "name": "stdout",
     "output_type": "stream",
     "text": [
      "Paris\n"
     ]
    }
   ],
   "source": [
    "print(travel_place[\"france_places\"][0])"
   ]
  },
  {
   "cell_type": "code",
   "execution_count": 29,
   "id": "b9d74884-149c-4b92-9102-52ab25cc1459",
   "metadata": {},
   "outputs": [
    {
     "name": "stdout",
     "output_type": "stream",
     "text": [
      "Lyon\n"
     ]
    }
   ],
   "source": [
    "print(travel_place[\"france_places\"][1])"
   ]
  },
  {
   "cell_type": "code",
   "execution_count": 33,
   "id": "f6a69f21-56b3-47da-8be6-3fd73b4aacf8",
   "metadata": {},
   "outputs": [
    {
     "name": "stdout",
     "output_type": "stream",
     "text": [
      "D\n"
     ]
    }
   ],
   "source": [
    "nested_list=[\"A\",\"B\",[\"C\",\"D\"]]\n",
    "print(nested_list[2][1])"
   ]
  },
  {
   "cell_type": "code",
   "execution_count": 38,
   "id": "0ea4be3c-8d78-46dc-b944-83b97a208cea",
   "metadata": {},
   "outputs": [],
   "source": [
    "travel_log = {\n",
    "    \"france\": {\n",
    "        \"number_of_times\": 10,\n",
    "        \"places\": [\"Paris\", \"Lyon\", \"Marseille\", \"Nice\", \"Bordeaux\"]\n",
    "    },\n",
    "    \"germany\": {\n",
    "        \"number_of_times\": 5,\n",
    "        \"places\": [\"Berlin\", \"Munich\", \"Hamburg\", \"Frankfurt\", \"Cologne\"]\n",
    "    }\n",
    "}"
   ]
  },
  {
   "cell_type": "code",
   "execution_count": 41,
   "id": "a3ec8245-7823-4971-9d25-76ef9ca539fb",
   "metadata": {},
   "outputs": [
    {
     "name": "stdout",
     "output_type": "stream",
     "text": [
      "Frankfurt\n"
     ]
    }
   ],
   "source": [
    "print(travel_log[\"germany\"][\"places\"][3])"
   ]
  },
  {
   "cell_type": "code",
   "execution_count": 44,
   "id": "67088ea9-952d-475f-9755-09b73b49ae6b",
   "metadata": {},
   "outputs": [],
   "source": [
    "#adding\n",
    "starting_dictionary = {\n",
    "    \"a\": 9,\n",
    "    \"b\": 8,\n",
    "}\n",
    "\n",
    "starting_dictionary[\"C\"]=7"
   ]
  },
  {
   "cell_type": "code",
   "execution_count": 45,
   "id": "07f3f7a6-9c63-4cf7-ac3f-87c4649e2a05",
   "metadata": {},
   "outputs": [
    {
     "name": "stdout",
     "output_type": "stream",
     "text": [
      "{'a': 9, 'b': 8, 'C': 7}\n"
     ]
    }
   ],
   "source": [
    "print(starting_dictionary)"
   ]
  },
  {
   "cell_type": "code",
   "execution_count": 50,
   "id": "2f147f9f-c184-4c51-8ae3-400fcee4b709",
   "metadata": {},
   "outputs": [
    {
     "name": "stdin",
     "output_type": "stream",
     "text": [
      "What is your name?:  Mayank\n",
      "What is your bid?: $ 12\n",
      "Are there any other bidders? Type 'yes or 'no'.\n",
      " yes\n",
      "What is your name?:  kshitij\n",
      "What is your bid?: $ 23\n",
      "Are there any other bidders? Type 'yes or 'no'.\n",
      " no\n"
     ]
    },
    {
     "name": "stdout",
     "output_type": "stream",
     "text": [
      "The winner is kshitij with a bid of $23\n"
     ]
    }
   ],
   "source": [
    "\n",
    "bids = {}\n",
    "bidding_finished = False\n",
    "\n",
    "def find_highest_bidder(bidding_record):\n",
    "  highest_bid = 0\n",
    "  winner = \"\"\n",
    "  # bidding_record = {\"Angela\": 123, \"James\": 321}\n",
    "  for bidder in bidding_record:\n",
    "    bid_amount = bidding_record[bidder]\n",
    "    if bid_amount > highest_bid: \n",
    "      highest_bid = bid_amount\n",
    "      winner = bidder\n",
    "  print(f\"The winner is {winner} with a bid of ${highest_bid}\")\n",
    "\n",
    "while not bidding_finished:\n",
    "  name = input(\"What is your name?: \")\n",
    "  price = int(input(\"What is your bid?: $\"))\n",
    "  bids[name] = price\n",
    "  should_continue = input(\"Are there any other bidders? Type 'yes or 'no'.\\n\")\n",
    "  if should_continue == \"no\":\n",
    "    bidding_finished = True\n",
    "    find_highest_bidder(bids)\n",
    "  elif should_continue == \"yes\":\n",
    "    bids = {}\n",
    "  "
   ]
  },
  {
   "cell_type": "code",
   "execution_count": null,
   "id": "ed6f05fd-930c-45b2-acea-e2f7970f25df",
   "metadata": {},
   "outputs": [
    {
     "name": "stdin",
     "output_type": "stream",
     "text": [
      "What is your name? kshitij\n",
      "What is your bid? 23\n",
      "Are there any other bidders? Type 'yes or 'no'.\n",
      " n0\n",
      "What is your name? kshitij\n",
      "What is your bid? 34\n",
      "Are there any other bidders? Type 'yes or 'no'.\n",
      " no\n"
     ]
    }
   ],
   "source": [
    "bids={}\n",
    "bidding_finished = False\n",
    "\n",
    "\n",
    "\n",
    "def find_highest_bidder(bidding_record):\n",
    "    highest_bill=0\n",
    "    winner=0\n",
    "    for bidder in bidding_record:\n",
    "        bid_amount=bidding_record[bidder]\n",
    "        if bid_amount > highest_bid:\n",
    "            highest_bid=bid_amount\n",
    "            winner=bid_amount\n",
    "\n",
    "    print(f\"The winner is {winner} with a bid of ${highest_bid}\")\n",
    "\n",
    "\n",
    "while not bidding_finished:\n",
    "    name=input(\"What is your name?\")\n",
    "    price=int(input(\"What is your bid?\"))\n",
    "    bids[name]=price\n",
    "\n",
    "    should_continue = input(\"Are there any other bidders? Type 'yes or 'no'.\\n\").lower\n",
    "    if should_continue==\"no\":\n",
    "      bidding_finished = True\n",
    "      find_highest_bidder(bids)\n",
    "    elif should_continue==\"yes\":\n",
    "      bids={}\n",
    "\n"
   ]
  },
  {
   "cell_type": "code",
   "execution_count": null,
   "id": "2929c122-ae91-49a9-a1ab-f0e16dd82fc3",
   "metadata": {},
   "outputs": [],
   "source": []
  }
 ],
 "metadata": {
  "kernelspec": {
   "display_name": "Python (tf_env)",
   "language": "python",
   "name": "tf_env"
  },
  "language_info": {
   "codemirror_mode": {
    "name": "ipython",
    "version": 3
   },
   "file_extension": ".py",
   "mimetype": "text/x-python",
   "name": "python",
   "nbconvert_exporter": "python",
   "pygments_lexer": "ipython3",
   "version": "3.10.9"
  }
 },
 "nbformat": 4,
 "nbformat_minor": 5
}
