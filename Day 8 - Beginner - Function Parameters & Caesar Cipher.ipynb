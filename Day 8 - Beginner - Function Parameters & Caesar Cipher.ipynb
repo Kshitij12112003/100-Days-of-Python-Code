{
 "cells": [
  {
   "cell_type": "markdown",
   "id": "9a24799f-95f1-4627-9cfb-21ad6c90c9e2",
   "metadata": {},
   "source": [
    "## Functions with Inputs"
   ]
  },
  {
   "cell_type": "code",
   "execution_count": 1,
   "id": "b66f3384-5459-406e-ad81-67aaf51e41b4",
   "metadata": {},
   "outputs": [
    {
     "name": "stdout",
     "output_type": "stream",
     "text": [
      "Hi\n",
      "I am kshitij chaudhary\n",
      "Nice to meet you!\n"
     ]
    }
   ],
   "source": [
    "def greet():\n",
    "    print(\"Hi\")\n",
    "    print(\"I am kshitij chaudhary\")\n",
    "    print(\"Nice to meet you!\")\n",
    "\n",
    "greet()"
   ]
  },
  {
   "cell_type": "code",
   "execution_count": 6,
   "id": "8d193b47-93fb-402a-a0aa-f9a42ab503af",
   "metadata": {},
   "outputs": [],
   "source": [
    "def greet(name):\n",
    "    print(\"Hi\")\n",
    "    print(f\"I am {name}\")\n",
    "    print(\"Nice to meet you!\")\n"
   ]
  },
  {
   "cell_type": "code",
   "execution_count": 7,
   "id": "82ea260b-69e4-404f-ac0f-794adcd1a8bd",
   "metadata": {},
   "outputs": [
    {
     "name": "stdout",
     "output_type": "stream",
     "text": [
      "Hi\n",
      "I am kshitij\n",
      "Nice to meet you!\n"
     ]
    }
   ],
   "source": [
    "greet(\"kshitij\")"
   ]
  },
  {
   "cell_type": "code",
   "execution_count": 8,
   "id": "705bae6d-089e-48e5-847b-70da795a964c",
   "metadata": {},
   "outputs": [
    {
     "name": "stdout",
     "output_type": "stream",
     "text": [
      "Hi\n",
      "I am ran\n",
      "Nice to meet you!\n"
     ]
    }
   ],
   "source": [
    "greet(\"ran\")"
   ]
  },
  {
   "cell_type": "markdown",
   "id": "5ae61067-75a6-426d-990a-7e67ae530034",
   "metadata": {},
   "source": [
    "### Life in Weeks"
   ]
  },
  {
   "cell_type": "code",
   "execution_count": 9,
   "id": "2895e15a-a39f-46da-8182-ace9216764a2",
   "metadata": {},
   "outputs": [
    {
     "name": "stdout",
     "output_type": "stream",
     "text": [
      "You have 4056 weeks left.\n"
     ]
    }
   ],
   "source": [
    "def life_in_weeks(age):\n",
    "    years_remaining = 90 - age\n",
    "    weeks_remaining = years_remaining * 52\n",
    "    print(f\"You have {weeks_remaining} weeks left.\")   \n",
    "life_in_weeks(12)"
   ]
  },
  {
   "cell_type": "markdown",
   "id": "31488d23-b36d-42f8-9a6c-b22fdb9aa815",
   "metadata": {},
   "source": [
    "### Function with more than one input"
   ]
  },
  {
   "cell_type": "code",
   "execution_count": 17,
   "id": "c3185fbb-08fb-48f3-8325-5f815affaf2b",
   "metadata": {},
   "outputs": [
    {
     "name": "stdout",
     "output_type": "stream",
     "text": [
      "Hi my name is kshitij!\n",
      "I am from varanasi\n"
     ]
    }
   ],
   "source": [
    "def greet_with(name,location):\n",
    "    print(f\"Hi my name is {name}!\")\n",
    "    print(f\"I am from {location}\")\n",
    "#Positional argumant\n",
    "greet_with(\"kshitij\",\"varanasi\")"
   ]
  },
  {
   "cell_type": "code",
   "execution_count": 18,
   "id": "8a294281-8f4a-4721-ad4b-7b52efb56efe",
   "metadata": {},
   "outputs": [
    {
     "name": "stdout",
     "output_type": "stream",
     "text": [
      "Hi my name is kshitij!\n",
      "I am from varanasi\n"
     ]
    }
   ],
   "source": [
    "def greet_with(name, location):\n",
    "    print(f\"Hi my name is {name}!\")\n",
    "    print(f\"I am from {location}\")\n",
    "#Keyword  Arguments\n",
    "greet_with(name=\"kshitij\", location=\"varanasi\")"
   ]
  },
  {
   "cell_type": "code",
   "execution_count": 19,
   "id": "17745ded-efbd-402e-bde4-87c6845b5114",
   "metadata": {},
   "outputs": [
    {
     "name": "stdout",
     "output_type": "stream",
     "text": [
      "Hi my name is mayank!\n",
      "I am from up\n"
     ]
    }
   ],
   "source": [
    "#Keyword  Arguments\n",
    "greet_with(location=\"up\",name=\"mayank\")"
   ]
  },
  {
   "cell_type": "markdown",
   "id": "ad98368e-d344-487f-9714-b22105e899aa",
   "metadata": {},
   "source": [
    "### Love Calculator"
   ]
  },
  {
   "cell_type": "code",
   "execution_count": 20,
   "id": "5cbf53fc-978d-4c80-a2da-4a1060434c55",
   "metadata": {},
   "outputs": [
    {
     "name": "stdout",
     "output_type": "stream",
     "text": [
      "42\n"
     ]
    }
   ],
   "source": [
    "def calculate_love_score(name1, name2):\n",
    "    combined_names = name1 + name2\n",
    "    lower_names = combined_names.lower()\n",
    "    \n",
    "    t = lower_names.count(\"t\")\n",
    "    r = lower_names.count(\"r\")\n",
    "    u = lower_names.count(\"u\")\n",
    "    e = lower_names.count(\"e\")\n",
    "    first_digit = t + r + u + e\n",
    "    \n",
    "    l = lower_names.count(\"l\")\n",
    "    o = lower_names.count(\"o\")\n",
    "    v = lower_names.count(\"v\")\n",
    "    e = lower_names.count(\"e\")\n",
    "    second_digit = l + o + v + e\n",
    "    \n",
    "    \n",
    "    score = int(str(first_digit) + str(second_digit))\n",
    "    print(score)\n",
    "    \n",
    "calculate_love_score(\"Kanye West\", \"Kim Kardashian\")"
   ]
  },
  {
   "cell_type": "markdown",
   "id": "1c02d0cd-cdb4-4b9e-8a7c-caaaede9b1c6",
   "metadata": {},
   "source": [
    "### Caesar Cipher"
   ]
  },
  {
   "cell_type": "code",
   "execution_count": 32,
   "id": "9f00b54d-5a75-4556-b1af-9ddf37b90b2c",
   "metadata": {},
   "outputs": [
    {
     "name": "stdin",
     "output_type": "stream",
     "text": [
      "Type 'encoder' to encrypt, and 'decoder' to decrypt:  encoder\n",
      "Type the message:  hello!\n",
      "Type the shift number:  2\n"
     ]
    },
    {
     "name": "stdout",
     "output_type": "stream",
     "text": [
      "Here is the encoded result: jgnnq!\n"
     ]
    }
   ],
   "source": [
    "alphabet = ['a', 'b', 'c', 'd', 'e', 'f', 'g', 'h', 'i', 'j', 'k', 'l', 'm',\n",
    "            'n', 'o', 'p', 'q', 'r', 's', 't', 'u', 'v', 'w', 'x', 'y', 'z']\n",
    "\n",
    "direction = input(\"Type 'encoder' to encrypt, and 'decoder' to decrypt: \").lower()\n",
    "text = input(\"Type the message: \").lower()\n",
    "shift = int(input(\"Type the shift number: \"))\n",
    "\n",
    "def encode(original_text, shift_amount):\n",
    "    cipher_text = \"\"\n",
    "    shift_amount %= 26\n",
    "    for letter in original_text:\n",
    "        if letter in alphabet:\n",
    "            shifted_position = (alphabet.index(letter) + shift_amount) % 26\n",
    "            cipher_text += alphabet[shifted_position]\n",
    "        else:\n",
    "            cipher_text += letter\n",
    "    print(f\"Here is the encoded result: {cipher_text}\")\n",
    "\n",
    "def decode(original_text, shift_amount):\n",
    "    cipher_text = \"\"\n",
    "    shift_amount %= 26\n",
    "    for letter in original_text:\n",
    "        if letter in alphabet:\n",
    "            shifted_position = (alphabet.index(letter) - shift_amount) % 26\n",
    "            cipher_text += alphabet[shifted_position]\n",
    "        else:\n",
    "            cipher_text += letter\n",
    "    print(f\"Here is the decoded result: {cipher_text}\")\n",
    "\n",
    "if direction == \"encoder\":\n",
    "    encode(original_text=text, shift_amount=shift)\n",
    "elif direction == \"decoder\":\n",
    "    decode(original_text=text, shift_amount=shift)\n",
    "else:\n",
    "    print(\"Invalid option. Type 'encoder' or 'decoder'.\")\n"
   ]
  },
  {
   "cell_type": "code",
   "execution_count": 33,
   "id": "f0bf91bc-d866-4a5b-ae33-c57a55497f36",
   "metadata": {},
   "outputs": [
    {
     "name": "stdin",
     "output_type": "stream",
     "text": [
      "Type 'encoder' to encrypt, and 'decoder' to decrypt:  decoder\n",
      "Type the message:  jgnnq!\n",
      "Type the shift number:  2\n"
     ]
    },
    {
     "name": "stdout",
     "output_type": "stream",
     "text": [
      "Here is the decoded result: hello!\n"
     ]
    }
   ],
   "source": [
    "alphabet = ['a', 'b', 'c', 'd', 'e', 'f', 'g', 'h', 'i', 'j', 'k', 'l', 'm',\n",
    "            'n', 'o', 'p', 'q', 'r', 's', 't', 'u', 'v', 'w', 'x', 'y', 'z']\n",
    "\n",
    "direction = input(\"Type 'encoder' to encrypt, and 'decoder' to decrypt: \").lower()\n",
    "text = input(\"Type the message: \").lower()\n",
    "shift = int(input(\"Type the shift number: \"))\n",
    "\n",
    "def encode(original_text, shift_amount):\n",
    "    cipher_text = \"\"\n",
    "    shift_amount %= 26\n",
    "    for letter in original_text:\n",
    "        if letter in alphabet:\n",
    "            shifted_position = (alphabet.index(letter) + shift_amount) % 26\n",
    "            cipher_text += alphabet[shifted_position]\n",
    "        else:\n",
    "            cipher_text += letter\n",
    "    print(f\"Here is the encoded result: {cipher_text}\")\n",
    "\n",
    "def decode(original_text, shift_amount):\n",
    "    cipher_text = \"\"\n",
    "    shift_amount %= 26\n",
    "    for letter in original_text:\n",
    "        if letter in alphabet:\n",
    "            shifted_position = (alphabet.index(letter) - shift_amount) % 26\n",
    "            cipher_text += alphabet[shifted_position]\n",
    "        else:\n",
    "            cipher_text += letter\n",
    "    print(f\"Here is the decoded result: {cipher_text}\")\n",
    "\n",
    "if direction == \"encoder\":\n",
    "    encode(original_text=text, shift_amount=shift)\n",
    "elif direction == \"decoder\":\n",
    "    decode(original_text=text, shift_amount=shift)\n",
    "else:\n",
    "    print(\"Invalid option. Type 'encoder' or 'decoder'.\")"
   ]
  },
  {
   "cell_type": "code",
   "execution_count": null,
   "id": "4da7fcc2-e4d2-4e82-9d21-d6d3aa6a81a6",
   "metadata": {},
   "outputs": [],
   "source": []
  }
 ],
 "metadata": {
  "kernelspec": {
   "display_name": "Python (tf_env)",
   "language": "python",
   "name": "tf_env"
  },
  "language_info": {
   "codemirror_mode": {
    "name": "ipython",
    "version": 3
   },
   "file_extension": ".py",
   "mimetype": "text/x-python",
   "name": "python",
   "nbconvert_exporter": "python",
   "pygments_lexer": "ipython3",
   "version": "3.10.9"
  }
 },
 "nbformat": 4,
 "nbformat_minor": 5
}
