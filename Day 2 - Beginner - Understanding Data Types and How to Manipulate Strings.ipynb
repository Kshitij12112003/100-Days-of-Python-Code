{
 "cells": [
  {
   "cell_type": "markdown",
   "id": "82b1af91-fb7f-4725-bdcf-8f317a18f0d2",
   "metadata": {},
   "source": [
    "# Data types"
   ]
  },
  {
   "cell_type": "markdown",
   "id": "4c40be92-ad4e-44f8-9652-16474cd9384d",
   "metadata": {},
   "source": [
    "### Strings"
   ]
  },
  {
   "cell_type": "code",
   "execution_count": 1,
   "id": "d57fd1e9-9a62-4225-b150-ff03652a9e33",
   "metadata": {},
   "outputs": [
    {
     "name": "stdout",
     "output_type": "stream",
     "text": [
      "H\n"
     ]
    }
   ],
   "source": [
    "#Subscripting\n",
    "print(\"Hello\"[0])#0,1,2,3,4"
   ]
  },
  {
   "cell_type": "code",
   "execution_count": 2,
   "id": "f1529721-6b70-4d7c-a9b7-eeb2d1d7e3fd",
   "metadata": {},
   "outputs": [
    {
     "name": "stdout",
     "output_type": "stream",
     "text": [
      "e\n"
     ]
    }
   ],
   "source": [
    "print(\"Hello\"[1])"
   ]
  },
  {
   "cell_type": "code",
   "execution_count": 3,
   "id": "69c5811d-526f-40c0-86fd-e16b4653f9c9",
   "metadata": {},
   "outputs": [
    {
     "name": "stdout",
     "output_type": "stream",
     "text": [
      "o\n"
     ]
    }
   ],
   "source": [
    "print(\"Hello\"[4])"
   ]
  },
  {
   "cell_type": "code",
   "execution_count": 4,
   "id": "7a8a3607-4674-48d6-b1a6-9d024840dc11",
   "metadata": {},
   "outputs": [
    {
     "name": "stdout",
     "output_type": "stream",
     "text": [
      "o\n"
     ]
    }
   ],
   "source": [
    "print(\"Hello\"[-1])"
   ]
  },
  {
   "cell_type": "code",
   "execution_count": 5,
   "id": "fa2f12c5-ad19-46ca-981e-c287b024d2cc",
   "metadata": {},
   "outputs": [
    {
     "name": "stdout",
     "output_type": "stream",
     "text": [
      "l\n"
     ]
    }
   ],
   "source": [
    "print(\"Hello\"[-2])"
   ]
  },
  {
   "cell_type": "code",
   "execution_count": 6,
   "id": "02c3ee80-1584-4e2d-b3f8-9cccf572ad14",
   "metadata": {},
   "outputs": [
    {
     "name": "stdout",
     "output_type": "stream",
     "text": [
      "H\n"
     ]
    }
   ],
   "source": [
    "print(\"Hello\"[-5])"
   ]
  },
  {
   "cell_type": "code",
   "execution_count": 7,
   "id": "9c035eaf-eb11-45ab-8281-8be09ef68a9a",
   "metadata": {},
   "outputs": [
    {
     "name": "stdout",
     "output_type": "stream",
     "text": [
      "123456\n"
     ]
    }
   ],
   "source": [
    "print(\"123\"+\"456\")"
   ]
  },
  {
   "cell_type": "markdown",
   "id": "02914e48-e22d-4234-99d8-ff2d15805830",
   "metadata": {},
   "source": [
    "### Integer :- Whole number"
   ]
  },
  {
   "cell_type": "code",
   "execution_count": 8,
   "id": "071539eb-703c-498a-867c-2c531dc65f7c",
   "metadata": {},
   "outputs": [
    {
     "name": "stdout",
     "output_type": "stream",
     "text": [
      "579\n"
     ]
    }
   ],
   "source": [
    "print(123+456)"
   ]
  },
  {
   "cell_type": "code",
   "execution_count": 9,
   "id": "0a58677d-8bc2-49bf-8b17-43bc98c15ef7",
   "metadata": {},
   "outputs": [],
   "source": [
    "#Larg Integers"
   ]
  },
  {
   "cell_type": "code",
   "execution_count": 10,
   "id": "befd70f8-1690-4363-b93c-4494997660ff",
   "metadata": {},
   "outputs": [
    {
     "name": "stdout",
     "output_type": "stream",
     "text": [
      "123456789\n"
     ]
    }
   ],
   "source": [
    "#123,456,789\n",
    "print(123_456_789)# On the place of , we can use _ to write"
   ]
  },
  {
   "cell_type": "markdown",
   "id": "38728648-15b5-4dca-bf82-f6b1a9c92783",
   "metadata": {},
   "source": [
    "Float :-Floating Point Number"
   ]
  },
  {
   "cell_type": "code",
   "execution_count": 11,
   "id": "07422815-0514-44eb-9236-f5e8a8ff5d78",
   "metadata": {},
   "outputs": [
    {
     "name": "stdout",
     "output_type": "stream",
     "text": [
      "123.45\n"
     ]
    }
   ],
   "source": [
    "print(123.45)"
   ]
  },
  {
   "cell_type": "markdown",
   "id": "3a6870ae-773d-4b8d-9318-f3ebd60e289f",
   "metadata": {},
   "source": [
    "### Boolean"
   ]
  },
  {
   "cell_type": "code",
   "execution_count": 12,
   "id": "afdc93d0-4493-48a1-b23e-efbea53ffb09",
   "metadata": {},
   "outputs": [
    {
     "name": "stdout",
     "output_type": "stream",
     "text": [
      "True\n",
      "False\n"
     ]
    }
   ],
   "source": [
    "print(\"True\")\n",
    "print(\"False\")"
   ]
  },
  {
   "cell_type": "code",
   "execution_count": 13,
   "id": "6e06ad42-5683-4af4-a50e-2eec3a197601",
   "metadata": {},
   "outputs": [
    {
     "name": "stdout",
     "output_type": "stream",
     "text": [
      "<class 'str'>\n"
     ]
    }
   ],
   "source": [
    "#For checking type of data we can use:- type()\n",
    "print(type(\"Hello\"))"
   ]
  },
  {
   "cell_type": "code",
   "execution_count": 14,
   "id": "a25a710a-2c44-4995-981c-2241c3b7386c",
   "metadata": {},
   "outputs": [
    {
     "name": "stdout",
     "output_type": "stream",
     "text": [
      "<class 'int'>\n"
     ]
    }
   ],
   "source": [
    "print(type(123))"
   ]
  },
  {
   "cell_type": "code",
   "execution_count": 15,
   "id": "a9c51f2c-d77f-44ba-b7fb-652d908fc727",
   "metadata": {},
   "outputs": [
    {
     "name": "stdout",
     "output_type": "stream",
     "text": [
      "<class 'float'>\n"
     ]
    }
   ],
   "source": [
    "print(type(1.34))"
   ]
  },
  {
   "cell_type": "code",
   "execution_count": 16,
   "id": "57a8cdb6-86d2-41d6-ac5a-f468505a96c4",
   "metadata": {},
   "outputs": [
    {
     "name": "stdout",
     "output_type": "stream",
     "text": [
      "<class 'bool'>\n"
     ]
    }
   ],
   "source": [
    "print(type(True))"
   ]
  },
  {
   "cell_type": "markdown",
   "id": "d961eb1e-0c9d-4d7a-920d-d08d17e0878d",
   "metadata": {},
   "source": [
    "### Conversing"
   ]
  },
  {
   "cell_type": "code",
   "execution_count": 17,
   "id": "739c84fb-8f48-4eb8-940c-45b7ae43825f",
   "metadata": {},
   "outputs": [
    {
     "name": "stdout",
     "output_type": "stream",
     "text": [
      "123456\n"
     ]
    }
   ],
   "source": [
    "print(\"123\"+\"456\")"
   ]
  },
  {
   "cell_type": "code",
   "execution_count": 18,
   "id": "af11fbcc-b47d-478a-b633-6e1e0e5952c5",
   "metadata": {},
   "outputs": [
    {
     "name": "stdout",
     "output_type": "stream",
     "text": [
      "579\n"
     ]
    }
   ],
   "source": [
    "print(int(\"123\")+int(\"456\"))"
   ]
  },
  {
   "cell_type": "code",
   "execution_count": 19,
   "id": "16df44ba-3c31-4f6e-b94a-d58590e0f600",
   "metadata": {},
   "outputs": [
    {
     "name": "stdin",
     "output_type": "stream",
     "text": [
      "Enter your name Kshitij\n"
     ]
    },
    {
     "ename": "TypeError",
     "evalue": "can only concatenate str (not \"int\") to str",
     "output_type": "error",
     "traceback": [
      "\u001b[0;31m---------------------------------------------------------------------------\u001b[0m",
      "\u001b[0;31mTypeError\u001b[0m                                 Traceback (most recent call last)",
      "Cell \u001b[0;32mIn[19], line 1\u001b[0m\n\u001b[0;32m----> 1\u001b[0m \u001b[38;5;28mprint\u001b[39m(\u001b[38;5;124;43m\"\u001b[39;49m\u001b[38;5;124;43mNumber of letters in your name: \u001b[39;49m\u001b[38;5;124;43m\"\u001b[39;49m\u001b[38;5;241;43m+\u001b[39;49m\u001b[38;5;28;43mlen\u001b[39;49m\u001b[43m(\u001b[49m\u001b[38;5;28;43minput\u001b[39;49m\u001b[43m(\u001b[49m\u001b[38;5;124;43m\"\u001b[39;49m\u001b[38;5;124;43mEnter your name\u001b[39;49m\u001b[38;5;124;43m\"\u001b[39;49m\u001b[43m)\u001b[49m\u001b[43m)\u001b[49m)\n",
      "\u001b[0;31mTypeError\u001b[0m: can only concatenate str (not \"int\") to str"
     ]
    }
   ],
   "source": [
    "print(\"Number of letters in your name: \"+len(input(\"Enter your name\")))\n"
   ]
  },
  {
   "cell_type": "code",
   "execution_count": 22,
   "id": "658aa1a6-6b03-47a3-af10-b2ed4048cb3f",
   "metadata": {},
   "outputs": [
    {
     "name": "stdin",
     "output_type": "stream",
     "text": [
      "Enter your name:- Kshirij\n"
     ]
    }
   ],
   "source": [
    "name_of_users=input(\"Enter your name:-\")\n",
    "length_of_name=len(name_of_users)"
   ]
  },
  {
   "cell_type": "code",
   "execution_count": 23,
   "id": "4eb538cb-bd4b-4eba-88cc-eba1eea5271b",
   "metadata": {},
   "outputs": [
    {
     "name": "stdout",
     "output_type": "stream",
     "text": [
      "<class 'str'>\n",
      "<class 'int'>\n"
     ]
    }
   ],
   "source": [
    "print(type(\"Number of letters in your name:\"))\n",
    "print(type(length_of_name))"
   ]
  },
  {
   "cell_type": "code",
   "execution_count": 24,
   "id": "a4872e30-ebf3-4038-bb69-5aefb7085a7c",
   "metadata": {},
   "outputs": [
    {
     "name": "stdout",
     "output_type": "stream",
     "text": [
      "Number of letters in your name: 7\n"
     ]
    }
   ],
   "source": [
    "#Number of letters in your name: -->str\n",
    "#length_of_name-->int\n",
    "\n",
    "print(\"Number of letters in your name: \"+str(length_of_name))"
   ]
  },
  {
   "cell_type": "markdown",
   "id": "bbf5eb90-4de6-4529-87b9-2f1f286ec918",
   "metadata": {},
   "source": [
    "### Methematical operations in Python"
   ]
  },
  {
   "cell_type": "code",
   "execution_count": 27,
   "id": "c227f267-6dd4-44a2-ba5b-6a8c6a2d01bd",
   "metadata": {},
   "outputs": [
    {
     "name": "stdout",
     "output_type": "stream",
     "text": [
      "My age : 12\n"
     ]
    }
   ],
   "source": [
    "print(\"My age : \"+ str(12))"
   ]
  },
  {
   "cell_type": "code",
   "execution_count": 28,
   "id": "c32c1443-8bf7-41db-9da8-46f67613ff9e",
   "metadata": {},
   "outputs": [
    {
     "name": "stdout",
     "output_type": "stream",
     "text": [
      "579\n"
     ]
    }
   ],
   "source": [
    "print(123+456)"
   ]
  },
  {
   "cell_type": "code",
   "execution_count": 29,
   "id": "3bd0f280-5a39-4a56-86cf-b956de4954a3",
   "metadata": {},
   "outputs": [
    {
     "name": "stdout",
     "output_type": "stream",
     "text": [
      "4\n"
     ]
    }
   ],
   "source": [
    "print(7-3)"
   ]
  },
  {
   "cell_type": "code",
   "execution_count": 30,
   "id": "a928d62f-8bf9-45e3-8712-c619c4ffd6bb",
   "metadata": {},
   "outputs": [
    {
     "name": "stdout",
     "output_type": "stream",
     "text": [
      "6\n"
     ]
    }
   ],
   "source": [
    "print(3*2)"
   ]
  },
  {
   "cell_type": "code",
   "execution_count": 35,
   "id": "e94b096e-b7eb-4de1-af59-e490fe5e4d90",
   "metadata": {},
   "outputs": [
    {
     "name": "stdout",
     "output_type": "stream",
     "text": [
      "1.6666666666666667\n"
     ]
    }
   ],
   "source": [
    "print(5/3)"
   ]
  },
  {
   "cell_type": "code",
   "execution_count": 36,
   "id": "d2ed9e13-b8d3-4665-84ac-79893cfaf113",
   "metadata": {},
   "outputs": [
    {
     "name": "stdout",
     "output_type": "stream",
     "text": [
      "1\n"
     ]
    }
   ],
   "source": [
    "print(5//3)"
   ]
  },
  {
   "cell_type": "code",
   "execution_count": 37,
   "id": "0353d25a-1f24-4669-a3ba-bf0c47255919",
   "metadata": {},
   "outputs": [
    {
     "name": "stdout",
     "output_type": "stream",
     "text": [
      "4\n"
     ]
    }
   ],
   "source": [
    "print(2**2)"
   ]
  },
  {
   "cell_type": "markdown",
   "id": "e462c156-93de-4269-9cf2-363096b6f668",
   "metadata": {},
   "source": [
    "### PEMDAS\n",
    "\n",
    "P: Parentheses,\n",
    "E: Exponents,\n",
    "M: Multiplication\n",
    "or\n",
    "D: Division,\n",
    "A: Addition\n",
    "or\n",
    "S: Subtraction"
   ]
  },
  {
   "cell_type": "code",
   "execution_count": 38,
   "id": "e288a9af-0870-4734-a94b-77d51ee1edad",
   "metadata": {},
   "outputs": [
    {
     "name": "stdout",
     "output_type": "stream",
     "text": [
      "12.0\n"
     ]
    }
   ],
   "source": [
    "print(3*3+4-3/3)"
   ]
  },
  {
   "cell_type": "markdown",
   "id": "f56a5a42-8559-42f9-99e7-b99011d44c02",
   "metadata": {},
   "source": [
    "### BMI Calculator"
   ]
  },
  {
   "cell_type": "code",
   "execution_count": 41,
   "id": "5f9ca2b5-690f-4d65-8e2e-5c4a11c149f0",
   "metadata": {},
   "outputs": [
    {
     "name": "stdout",
     "output_type": "stream",
     "text": [
      "30.85399449035813\n"
     ]
    }
   ],
   "source": [
    "height = 1.65 \n",
    "weight = 84\n",
    "\n",
    "# Calculate the bmi using weight and height.\n",
    "bmi = weight/height**2\n",
    "\n",
    "print(bmi)\n"
   ]
  },
  {
   "cell_type": "code",
   "execution_count": 42,
   "id": "cc0fb646-56a1-45e6-ab64-27a7dc381bbe",
   "metadata": {},
   "outputs": [
    {
     "name": "stdout",
     "output_type": "stream",
     "text": [
      "30\n"
     ]
    }
   ],
   "source": [
    "print(int(bmi))"
   ]
  },
  {
   "cell_type": "code",
   "execution_count": 43,
   "id": "9fd89917-5d1b-45de-bab6-f4223ef029bc",
   "metadata": {},
   "outputs": [
    {
     "name": "stdout",
     "output_type": "stream",
     "text": [
      "31\n"
     ]
    }
   ],
   "source": [
    "print(round(bmi))"
   ]
  },
  {
   "cell_type": "code",
   "execution_count": 44,
   "id": "eb04c472-f28d-41d7-a2c3-cddb6068a422",
   "metadata": {},
   "outputs": [
    {
     "name": "stdout",
     "output_type": "stream",
     "text": [
      "30.85\n"
     ]
    }
   ],
   "source": [
    "print(round(bmi,2))"
   ]
  },
  {
   "cell_type": "markdown",
   "id": "1fd7004b-32b5-4387-9d4d-b77f382377c9",
   "metadata": {},
   "source": [
    "### f-string"
   ]
  },
  {
   "cell_type": "code",
   "execution_count": 47,
   "id": "46c2b1f5-cf21-454a-9f70-eb96e50967a8",
   "metadata": {},
   "outputs": [
    {
     "name": "stdout",
     "output_type": "stream",
     "text": [
      "Your score is = 0, your height is 1.8 ,You are winning is True\n"
     ]
    }
   ],
   "source": [
    "score=0\n",
    "height=1.8\n",
    "is_winning=True\n",
    "\n",
    "print(f\"Your score is = {score}, your height is {height} ,You are winning is {is_winning}\")"
   ]
  },
  {
   "cell_type": "markdown",
   "id": "32d2291d-f356-48f3-9229-6c52c4e367fe",
   "metadata": {},
   "source": [
    "## Tip calculater"
   ]
  },
  {
   "cell_type": "code",
   "execution_count": 50,
   "id": "f4272145-a4df-4bf4-ad3a-ae0c1b2a88fe",
   "metadata": {},
   "outputs": [
    {
     "name": "stdout",
     "output_type": "stream",
     "text": [
      "Welcome to the tip calculator!\n"
     ]
    }
   ],
   "source": [
    "print(\"Welcome to the tip calculator!\")\n"
   ]
  },
  {
   "cell_type": "code",
   "execution_count": 49,
   "id": "fae901ea-b0bd-46bc-af0f-d7ba5b7d648c",
   "metadata": {},
   "outputs": [
    {
     "name": "stdout",
     "output_type": "stream",
     "text": [
      "Welcome to the tip calculator!\n"
     ]
    },
    {
     "name": "stdin",
     "output_type": "stream",
     "text": [
      "What is the total bill$ 153.45\n",
      "How much Percentage tip would you like to give? 10,12,or15? 15\n",
      "How many people to split the bill? 5\n"
     ]
    },
    {
     "name": "stdout",
     "output_type": "stream",
     "text": [
      "Each person should pay: $35.29 \n"
     ]
    }
   ],
   "source": [
    "print(\"Welcome to the tip calculator!\")\n",
    "bill=float(input(\"What is the total bill$\"))\n",
    "tip=int(input(\"How much Percentage tip would you like to give? 10,12,or15?\"))\n",
    "people_split=int(input(\"How many people to split the bill?\"))\n",
    "\n",
    "total_tip_amount=(tip/100)*bill\n",
    "\n",
    "total_bill = bill + total_tip_amount\n",
    "\n",
    "bill_per_people = total_bill / people_split\n",
    "\n",
    "final_amount = round(bill_per_people,2)\n",
    "\n",
    "print(f\"Each person should pay: ${final_amount} \")"
   ]
  },
  {
   "cell_type": "code",
   "execution_count": null,
   "id": "4c69c927-c71d-42c9-b037-a00410bd8479",
   "metadata": {},
   "outputs": [],
   "source": []
  }
 ],
 "metadata": {
  "kernelspec": {
   "display_name": "Python (tf_env)",
   "language": "python",
   "name": "tf_env"
  },
  "language_info": {
   "codemirror_mode": {
    "name": "ipython",
    "version": 3
   },
   "file_extension": ".py",
   "mimetype": "text/x-python",
   "name": "python",
   "nbconvert_exporter": "python",
   "pygments_lexer": "ipython3",
   "version": "3.10.9"
  }
 },
 "nbformat": 4,
 "nbformat_minor": 5
}
