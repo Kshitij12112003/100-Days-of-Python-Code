{
 "cells": [
  {
   "cell_type": "markdown",
   "id": "d4c467f4-8c90-45c0-8e3a-8c18573fd307",
   "metadata": {},
   "source": [
    "## Randomisation"
   ]
  },
  {
   "cell_type": "code",
   "execution_count": 2,
   "id": "099a624c-f4ad-41f5-86da-88687a2b3514",
   "metadata": {},
   "outputs": [],
   "source": [
    "#Note:-First we have to import random\n",
    "import random"
   ]
  },
  {
   "cell_type": "raw",
   "id": "5066dd8b-3f1c-4f5e-8045-51c1f106c4e6",
   "metadata": {},
   "source": [
    "Functions for integers\n",
    "\n",
    "-->random.randint(a, b)\n",
    "Return a random integer N such that a <= N <= b. Alias for randrange(a, b+1)."
   ]
  },
  {
   "cell_type": "code",
   "execution_count": 11,
   "id": "c26b7a93-d5e7-4d46-ab3f-0aa4e54b1e8a",
   "metadata": {},
   "outputs": [
    {
     "name": "stdout",
     "output_type": "stream",
     "text": [
      "6\n"
     ]
    }
   ],
   "source": [
    "random_int=random.randint(1,10)\n",
    "print(random_int)"
   ]
  },
  {
   "cell_type": "raw",
   "id": "adf2af73-82da-440f-9ccf-1edcab8e5f97",
   "metadata": {},
   "source": [
    "Real-valued distributions\n",
    "\n",
    "The following functions generate specific real-valued distributions. Function parameters are named after the corresponding variables in the distribution’s equation, as used in common mathematical practice; most of these equations can be found in any statistics text.\n",
    "\n",
    "-->random.random()\n",
    "Return the next random floating-point number in the range 0.0 <= X < 1.0"
   ]
  },
  {
   "cell_type": "code",
   "execution_count": 14,
   "id": "cebebdf7-c51d-4a49-b922-fb8a121cc179",
   "metadata": {},
   "outputs": [
    {
     "name": "stdout",
     "output_type": "stream",
     "text": [
      "0.5601757961837845\n"
     ]
    }
   ],
   "source": [
    "random0_1=random.random()\n",
    "print(random0_1)"
   ]
  },
  {
   "cell_type": "code",
   "execution_count": 15,
   "id": "9edc0892-c18f-4712-8fee-05293b2d15d1",
   "metadata": {},
   "outputs": [
    {
     "name": "stdout",
     "output_type": "stream",
     "text": [
      "9.166067572085948\n"
     ]
    }
   ],
   "source": [
    "random0_1=random.random()*10\n",
    "print(random0_1)"
   ]
  },
  {
   "cell_type": "raw",
   "id": "64a6dcae-cf12-46e8-9407-ac10ade13996",
   "metadata": {},
   "source": [
    "-->random.uniform(a, b)\n",
    "Return a random floating-point number N such that a <= N <= b for a <= b and b <= N <= a for b < a."
   ]
  },
  {
   "cell_type": "code",
   "execution_count": 18,
   "id": "83fa40ba-8b1b-47a6-8160-55cbb12e0f30",
   "metadata": {},
   "outputs": [
    {
     "name": "stdout",
     "output_type": "stream",
     "text": [
      "5.8449319650918135\n"
     ]
    }
   ],
   "source": [
    "random_uniform=random.uniform(1, 10)\n",
    "print(random_uniform)"
   ]
  },
  {
   "cell_type": "code",
   "execution_count": 24,
   "id": "2f0ee6f9-5849-4953-8b5f-80ff8953ff60",
   "metadata": {},
   "outputs": [
    {
     "name": "stdout",
     "output_type": "stream",
     "text": [
      "Heads\n"
     ]
    }
   ],
   "source": [
    "#Head or tails game\n",
    "head_or_tails_game=random.randint(0,1)\n",
    "if head_or_tails_game == 0:\n",
    "    \n",
    "    print(\"Heads\")\n",
    "\n",
    "else:\n",
    "    print(\"Tails\")"
   ]
  },
  {
   "cell_type": "markdown",
   "id": "3ac1dde0-49dc-45d4-b9a6-62fc6283a1dd",
   "metadata": {},
   "source": [
    "## Lists"
   ]
  },
  {
   "cell_type": "markdown",
   "id": "94691e52-4ee1-4ecf-9746-6a084db8feb1",
   "metadata": {},
   "source": [
    "### Fruits=[item1 , item2]"
   ]
  },
  {
   "cell_type": "code",
   "execution_count": 26,
   "id": "805bd9d5-c6df-46ac-bb92-801595e3a846",
   "metadata": {},
   "outputs": [],
   "source": [
    "us_states = [\"Delaware\",\"Pennsylvania\",\"New Jersey\",\"Georgia\",\"Connecticut\",\"Massachusetts\",\"Maryland\",\"South Carolina\",\n",
    "    \"New Hampshire\",\"Virginia\",\"New York\", \"North Carolina\",\"Rhode Island\",\"Vermont\",\"Kentucky\",\"Tennessee\", \"Ohio\", \"Louisiana\", \"Indiana\",\"Mississippi\", \"Illinois\",\n",
    "    \"Alabama\", \"Maine\", \"Missouri\",\"Arkansas\",\"Michigan\",\"Florida\",  \"Texas\",\"Iowa\",\"Wisconsin\",\"California\", \"Minnesota\",\"Oregon\",\"Kansas\",\n",
    "    \"West Virginia\", \"Nevada\",\"Nebraska\",\"Colorado\",\"North Dakota\",\"South Dakota\",\"Montana\",\"Washington\",\"Idaho\",\"Wyoming\",\"Utah\",\n",
    "    \"Oklahoma\",\"New Mexico\",\"Arizona\",\"Alaska\", \"Hawaii\"\n",
    "]\n"
   ]
  },
  {
   "cell_type": "code",
   "execution_count": 28,
   "id": "7ca14e9b-a601-469a-a7dd-52c48094a428",
   "metadata": {},
   "outputs": [
    {
     "name": "stdout",
     "output_type": "stream",
     "text": [
      "Delaware\n"
     ]
    }
   ],
   "source": [
    "print(us_states[0])"
   ]
  },
  {
   "cell_type": "code",
   "execution_count": 29,
   "id": "5f9914c0-4dbe-4223-b3da-b1765b2fa518",
   "metadata": {},
   "outputs": [
    {
     "name": "stdout",
     "output_type": "stream",
     "text": [
      "Pennsylvania\n"
     ]
    }
   ],
   "source": [
    "print(us_states[1])"
   ]
  },
  {
   "cell_type": "code",
   "execution_count": 30,
   "id": "8896782a-845e-4d5b-8390-d50d93d081ca",
   "metadata": {},
   "outputs": [
    {
     "name": "stdout",
     "output_type": "stream",
     "text": [
      "New Jersey\n"
     ]
    }
   ],
   "source": [
    "print(us_states[2])"
   ]
  },
  {
   "cell_type": "code",
   "execution_count": 31,
   "id": "3c6d30a5-2a68-408f-865e-7b5a264c33bf",
   "metadata": {},
   "outputs": [
    {
     "name": "stdout",
     "output_type": "stream",
     "text": [
      "Hawaii\n"
     ]
    }
   ],
   "source": [
    "print(us_states[-1])"
   ]
  },
  {
   "cell_type": "code",
   "execution_count": 32,
   "id": "831bfb48-ba79-4ac4-a594-2d265f439913",
   "metadata": {},
   "outputs": [
    {
     "name": "stdout",
     "output_type": "stream",
     "text": [
      "Alaska\n"
     ]
    }
   ],
   "source": [
    "print(us_states[-2])"
   ]
  },
  {
   "cell_type": "code",
   "execution_count": 35,
   "id": "0947feef-0182-48d1-9d53-c321b8b5b373",
   "metadata": {},
   "outputs": [],
   "source": [
    "us_states[1]=\"Pencilecaniya\""
   ]
  },
  {
   "cell_type": "code",
   "execution_count": 36,
   "id": "d298b5e0-36bf-46ed-99f9-8c7d7a04d569",
   "metadata": {},
   "outputs": [
    {
     "name": "stdout",
     "output_type": "stream",
     "text": [
      "['Delaware', 'Pencilecaniya', 'New Jersey', 'Georgia', 'Connecticut', 'Massachusetts', 'Maryland', 'South Carolina', 'New Hampshire', 'Virginia', 'New York', 'North Carolina', 'Rhode Island', 'Vermont', 'Kentucky', 'Tennessee', 'Ohio', 'Louisiana', 'Indiana', 'Mississippi', 'Illinois', 'Alabama', 'Maine', 'Missouri', 'Arkansas', 'Michigan', 'Florida', 'Texas', 'Iowa', 'Wisconsin', 'California', 'Minnesota', 'Oregon', 'Kansas', 'West Virginia', 'Nevada', 'Nebraska', 'Colorado', 'North Dakota', 'South Dakota', 'Montana', 'Washington', 'Idaho', 'Wyoming', 'Utah', 'Oklahoma', 'New Mexico', 'Arizona', 'Alaska', 'Hawaii']\n"
     ]
    }
   ],
   "source": [
    "print(us_states)"
   ]
  },
  {
   "cell_type": "code",
   "execution_count": 38,
   "id": "763823ea-2122-4887-9124-7b23a9548066",
   "metadata": {},
   "outputs": [],
   "source": [
    "us_states.append(\"Kshitijland\")"
   ]
  },
  {
   "cell_type": "code",
   "execution_count": 39,
   "id": "7f62c0df-1a3d-423f-bbfb-9a3c141fbfd0",
   "metadata": {},
   "outputs": [
    {
     "name": "stdout",
     "output_type": "stream",
     "text": [
      "['Delaware', 'Pencilecaniya', 'New Jersey', 'Georgia', 'Connecticut', 'Massachusetts', 'Maryland', 'South Carolina', 'New Hampshire', 'Virginia', 'New York', 'North Carolina', 'Rhode Island', 'Vermont', 'Kentucky', 'Tennessee', 'Ohio', 'Louisiana', 'Indiana', 'Mississippi', 'Illinois', 'Alabama', 'Maine', 'Missouri', 'Arkansas', 'Michigan', 'Florida', 'Texas', 'Iowa', 'Wisconsin', 'California', 'Minnesota', 'Oregon', 'Kansas', 'West Virginia', 'Nevada', 'Nebraska', 'Colorado', 'North Dakota', 'South Dakota', 'Montana', 'Washington', 'Idaho', 'Wyoming', 'Utah', 'Oklahoma', 'New Mexico', 'Arizona', 'Alaska', 'Hawaii', 'Kshitijland']\n"
     ]
    }
   ],
   "source": [
    "print(us_states)"
   ]
  },
  {
   "cell_type": "code",
   "execution_count": 41,
   "id": "7445b456-4dad-4059-8eac-a0ae8657fe57",
   "metadata": {},
   "outputs": [
    {
     "name": "stdout",
     "output_type": "stream",
     "text": [
      "Selected friend: Kabir\n"
     ]
    }
   ],
   "source": [
    "#Who will pay the bill?\n",
    "\n",
    "friends = [\"Aarav\", \"Meera\", \"Rohan\", \"Sanya\", \"Kabir\"]\n",
    "\n",
    "random_friend = random.choice(friends)\n",
    "\n",
    "print(\"Selected friend:\", random_friend)"
   ]
  },
  {
   "cell_type": "code",
   "execution_count": 46,
   "id": "38cad3da-e7e3-4d85-85e3-bf292159a132",
   "metadata": {},
   "outputs": [
    {
     "name": "stdout",
     "output_type": "stream",
     "text": [
      "Selected friend: Sanya\n"
     ]
    }
   ],
   "source": [
    "rand_int=random.randint(0,4)\n",
    "\n",
    "print(f\"Selected friend: {friends[rand_int]}\")"
   ]
  },
  {
   "cell_type": "code",
   "execution_count": 52,
   "id": "a95a69bc-01e3-43c1-b45b-e5f17089e378",
   "metadata": {},
   "outputs": [],
   "source": [
    "us_states = [\"Delaware\",\"Pennsylvania\",\"New Jersey\",\"Georgia\",\"Connecticut\",\"Massachusetts\",\"Maryland\",\"South Carolina\",\n",
    "    \"New Hampshire\",\"Virginia\",\"New York\", \"North Carolina\",\"Rhode Island\",\"Vermont\",\"Kentucky\",\"Tennessee\", \"Ohio\", \"Louisiana\", \"Indiana\",\"Mississippi\", \"Illinois\",\n",
    "    \"Alabama\", \"Maine\", \"Missouri\",\"Arkansas\",\"Michigan\",\"Florida\",  \"Texas\",\"Iowa\",\"Wisconsin\",\"California\", \"Minnesota\",\"Oregon\",\"Kansas\",\n",
    "    \"West Virginia\", \"Nevada\",\"Nebraska\",\"Colorado\",\"North Dakota\",\"South Dakota\",\"Montana\",\"Washington\",\"Idaho\",\"Wyoming\",\"Utah\",\n",
    "    \"Oklahoma\",\"New Mexico\",\"Arizona\",\"Alaska\", \"Hawaii\"\n",
    "]\n"
   ]
  },
  {
   "cell_type": "code",
   "execution_count": 57,
   "id": "c8664555-ba13-430f-a9ef-c92d15caba6a",
   "metadata": {},
   "outputs": [
    {
     "name": "stdout",
     "output_type": "stream",
     "text": [
      "50\n"
     ]
    }
   ],
   "source": [
    "#IndexErrors and Working with Nested Lists\n",
    "no_us_states=len((us_states))\n",
    "print(no_us_states)"
   ]
  },
  {
   "cell_type": "code",
   "execution_count": 58,
   "id": "0bae1f63-0fc2-4919-933a-dd724616450d",
   "metadata": {},
   "outputs": [
    {
     "ename": "IndexError",
     "evalue": "list index out of range",
     "output_type": "error",
     "traceback": [
      "\u001b[0;31m---------------------------------------------------------------------------\u001b[0m",
      "\u001b[0;31mIndexError\u001b[0m                                Traceback (most recent call last)",
      "Cell \u001b[0;32mIn[58], line 1\u001b[0m\n\u001b[0;32m----> 1\u001b[0m \u001b[38;5;28mprint\u001b[39m(\u001b[43mus_states\u001b[49m\u001b[43m[\u001b[49m\u001b[38;5;241;43m50\u001b[39;49m\u001b[43m]\u001b[49m)\n",
      "\u001b[0;31mIndexError\u001b[0m: list index out of range"
     ]
    }
   ],
   "source": [
    "print(us_states[50])"
   ]
  },
  {
   "cell_type": "code",
   "execution_count": 60,
   "id": "49f9a2ee-ebb6-414c-a30b-c032e9842276",
   "metadata": {},
   "outputs": [
    {
     "name": "stdout",
     "output_type": "stream",
     "text": [
      "Hawaii\n"
     ]
    }
   ],
   "source": [
    "print(us_states[no_us_states -1])"
   ]
  },
  {
   "cell_type": "code",
   "execution_count": 61,
   "id": "fd656d90-11f2-4caa-85ab-ffcfea78f0dc",
   "metadata": {},
   "outputs": [
    {
     "name": "stdout",
     "output_type": "stream",
     "text": [
      "[['Apple', 'Banana', 'Mango', 'Orange', 'Grapes'], ['Carrot', 'Broccoli', 'Spinach', 'Potato', 'Tomato']]\n"
     ]
    }
   ],
   "source": [
    "fruits = [\"Apple\", \"Banana\", \"Mango\", \"Orange\", \"Grapes\"]\n",
    "vegetables = [\"Carrot\", \"Broccoli\", \"Spinach\", \"Potato\", \"Tomato\"]\n",
    "\n",
    "fru_veg=[fruits,vegetables]\n",
    "\n",
    "print(fru_veg)"
   ]
  },
  {
   "cell_type": "code",
   "execution_count": 62,
   "id": "6b2a92af-2e94-4bae-aef7-ae355d8da057",
   "metadata": {},
   "outputs": [
    {
     "name": "stdin",
     "output_type": "stream",
     "text": [
      "What do you choose? Type 0 for Rock, 1 for Paper or 2 for Scissors:\n",
      " 2\n"
     ]
    },
    {
     "name": "stdout",
     "output_type": "stream",
     "text": [
      "You chose:\n",
      "\n",
      "    _______\n",
      "---'   ____)____\n",
      "          ______)\n",
      "       __________)\n",
      "      (____)\n",
      "---.__(___)\n",
      "\n",
      "Computer chose:\n",
      "\n",
      "    _______\n",
      "---'   ____)\n",
      "      (_____)\n",
      "      (_____)\n",
      "      (____)\n",
      "---.__(___)\n",
      "\n",
      "You lose!\n"
     ]
    }
   ],
   "source": [
    "import random\n",
    "\n",
    "rock = '''\n",
    "    _______\n",
    "---'   ____)\n",
    "      (_____)\n",
    "      (_____)\n",
    "      (____)\n",
    "---.__(___)\n",
    "'''\n",
    "\n",
    "paper = '''\n",
    "     _______\n",
    "---'    ____)____\n",
    "           ______)\n",
    "          _______)\n",
    "         _______)\n",
    "---.__________)\n",
    "'''\n",
    "\n",
    "scissors = '''\n",
    "    _______\n",
    "---'   ____)____\n",
    "          ______)\n",
    "       __________)\n",
    "      (____)\n",
    "---.__(___)\n",
    "'''\n",
    "\n",
    "# List of options\n",
    "game_images = [rock, paper, scissors]\n",
    "\n",
    "# User input\n",
    "user_choice = int(input(\"What do you choose? Type 0 for Rock, 1 for Paper or 2 for Scissors:\\n\"))\n",
    "if user_choice < 0 or user_choice > 2:\n",
    "    print(\"Invalid number, you lose!\")\n",
    "else:\n",
    "    print(\"You chose:\")\n",
    "    print(game_images[user_choice])\n",
    "\n",
    "    # Computer choice\n",
    "    computer_choice = random.randint(0, 2)\n",
    "    print(\"Computer chose:\")\n",
    "    print(game_images[computer_choice])\n",
    "\n",
    "    # Game logic\n",
    "    if user_choice == computer_choice:\n",
    "        print(\"It's a draw!\")\n",
    "    elif (user_choice == 0 and computer_choice == 2) or \\\n",
    "         (user_choice == 1 and computer_choice == 0) or \\\n",
    "         (user_choice == 2 and computer_choice == 1):\n",
    "        print(\"You win!\")\n",
    "    else:\n",
    "        print(\"You lose!\")"
   ]
  },
  {
   "cell_type": "code",
   "execution_count": null,
   "id": "e97906fb-5590-47dd-a3fd-72048d83ada5",
   "metadata": {},
   "outputs": [],
   "source": []
  }
 ],
 "metadata": {
  "kernelspec": {
   "display_name": "Python (tf_env)",
   "language": "python",
   "name": "tf_env"
  },
  "language_info": {
   "codemirror_mode": {
    "name": "ipython",
    "version": 3
   },
   "file_extension": ".py",
   "mimetype": "text/x-python",
   "name": "python",
   "nbconvert_exporter": "python",
   "pygments_lexer": "ipython3",
   "version": "3.10.9"
  }
 },
 "nbformat": 4,
 "nbformat_minor": 5
}
