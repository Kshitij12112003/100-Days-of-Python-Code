{
 "cells": [
  {
   "cell_type": "markdown",
   "id": "e564073e-97d1-4f3b-b289-9a7991e8ad34",
   "metadata": {},
   "source": [
    "## For Loop "
   ]
  },
  {
   "cell_type": "code",
   "execution_count": 33,
   "id": "418b6ca8-e096-4dfe-9775-319ad8062671",
   "metadata": {},
   "outputs": [
    {
     "ename": "SyntaxError",
     "evalue": "invalid syntax (4035460624.py, line 2)",
     "output_type": "error",
     "traceback": [
      "\u001b[0;36m  Cell \u001b[0;32mIn[33], line 2\u001b[0;36m\u001b[0m\n\u001b[0;31m    Do something to each item\u001b[0m\n\u001b[0m       ^\u001b[0m\n\u001b[0;31mSyntaxError\u001b[0m\u001b[0;31m:\u001b[0m invalid syntax\n"
     ]
    }
   ],
   "source": [
    "for item in list_of_items:\n",
    "    Do something to each item"
   ]
  },
  {
   "cell_type": "code",
   "execution_count": 34,
   "id": "c7c43040-5d7e-4b22-a4f8-c7382d4eba83",
   "metadata": {},
   "outputs": [
    {
     "name": "stdout",
     "output_type": "stream",
     "text": [
      "Apple\n",
      "Apple pie\n",
      "['Apple', 'Banana', 'Mango', 'Orange', 'Grapes']\n",
      "Banana\n",
      "Banana pie\n",
      "['Apple', 'Banana', 'Mango', 'Orange', 'Grapes']\n",
      "Mango\n",
      "Mango pie\n",
      "['Apple', 'Banana', 'Mango', 'Orange', 'Grapes']\n",
      "Orange\n",
      "Orange pie\n",
      "['Apple', 'Banana', 'Mango', 'Orange', 'Grapes']\n",
      "Grapes\n",
      "Grapes pie\n",
      "['Apple', 'Banana', 'Mango', 'Orange', 'Grapes']\n"
     ]
    }
   ],
   "source": [
    "fruits = [\"Apple\", \"Banana\", \"Mango\", \"Orange\", \"Grapes\"]\n",
    "\n",
    "for fruit in fruits:\n",
    "    print(fruit)\n",
    "    print(fruit +\" pie\")\n",
    "    print(fruits)"
   ]
  },
  {
   "cell_type": "code",
   "execution_count": 35,
   "id": "fa2e7c3b-72c0-4cba-93f8-fc11b405b412",
   "metadata": {},
   "outputs": [
    {
     "name": "stdout",
     "output_type": "stream",
     "text": [
      "Apple\n",
      "Apple pie\n",
      "Banana\n",
      "Banana pie\n",
      "Mango\n",
      "Mango pie\n",
      "Orange\n",
      "Orange pie\n",
      "Grapes\n",
      "Grapes pie\n",
      "['Apple', 'Banana', 'Mango', 'Orange', 'Grapes']\n"
     ]
    }
   ],
   "source": [
    "fruits = [\"Apple\", \"Banana\", \"Mango\", \"Orange\", \"Grapes\"]\n",
    "\n",
    "for fruit in fruits:\n",
    "    print(fruit)\n",
    "    print(fruit +\" pie\")\n",
    "print(fruits)"
   ]
  },
  {
   "cell_type": "code",
   "execution_count": 44,
   "id": "8e6c5d2c-ffae-4978-be5e-23831ba50cae",
   "metadata": {},
   "outputs": [
    {
     "name": "stdout",
     "output_type": "stream",
     "text": [
      "[24, 42, 58, 35, 14, 4, 48, 44, 59, 31, 47, 5, 99, 53, 43, 30, 49, 40, 3, 74, 65, 6, 62, 30, 79, 57, 71, 39, 24, 46, 8, 3, 62, 58, 56, 79, 60, 95, 45, 85, 31, 87, 16, 95, 56, 43, 76, 67, 71, 52]\n"
     ]
    }
   ],
   "source": [
    "import random\n",
    "\n",
    "# Generate list of 50 random marks between 0 and 100\n",
    "scores = [random.randint(0, 100) for _ in range(50)]\n",
    "\n",
    "print(scores)\n"
   ]
  },
  {
   "cell_type": "markdown",
   "id": "e870c0bc-279d-4782-8ac4-39128a08c555",
   "metadata": {},
   "source": [
    "### Sum"
   ]
  },
  {
   "cell_type": "code",
   "execution_count": 49,
   "id": "b21984fa-b5f5-448d-8df3-697ed7a0aa93",
   "metadata": {},
   "outputs": [
    {
     "name": "stdout",
     "output_type": "stream",
     "text": [
      "2426\n"
     ]
    }
   ],
   "source": [
    "total_exam_score=sum(scores)\n",
    "print(total_exam_score)"
   ]
  },
  {
   "cell_type": "code",
   "execution_count": 50,
   "id": "e71fcb35-446f-44c0-894f-600ded4ee079",
   "metadata": {},
   "outputs": [
    {
     "name": "stdout",
     "output_type": "stream",
     "text": [
      "Total:-2426\n"
     ]
    }
   ],
   "source": [
    "total=0\n",
    "\n",
    "for score in scores:\n",
    "    total+=score\n",
    "\n",
    "print(f\"Total:-{total}\")"
   ]
  },
  {
   "cell_type": "markdown",
   "id": "ff203d95-0619-4a06-878c-88935032d5f1",
   "metadata": {},
   "source": [
    "### Max"
   ]
  },
  {
   "cell_type": "code",
   "execution_count": 56,
   "id": "ccda2c41-d49f-42b8-bae3-823eeb8587ca",
   "metadata": {},
   "outputs": [
    {
     "ename": "TypeError",
     "evalue": "'list' object is not callable",
     "output_type": "error",
     "traceback": [
      "\u001b[0;31m---------------------------------------------------------------------------\u001b[0m",
      "\u001b[0;31mTypeError\u001b[0m                                 Traceback (most recent call last)",
      "Cell \u001b[0;32mIn[56], line 1\u001b[0m\n\u001b[0;32m----> 1\u001b[0m \u001b[38;5;28mprint\u001b[39m(\u001b[38;5;28;43mmax\u001b[39;49m\u001b[43m(\u001b[49m\u001b[43mscores\u001b[49m\u001b[43m)\u001b[49m)\n",
      "\u001b[0;31mTypeError\u001b[0m: 'list' object is not callable"
     ]
    }
   ],
   "source": [
    "print(max(scores))"
   ]
  },
  {
   "cell_type": "code",
   "execution_count": 57,
   "id": "426d41b6-cdc5-4d20-ab7b-c16703269fca",
   "metadata": {},
   "outputs": [
    {
     "name": "stdout",
     "output_type": "stream",
     "text": [
      "99\n"
     ]
    }
   ],
   "source": [
    "max_score=0\n",
    "for score in scores:\n",
    "    if max_score<score:\n",
    "        max_score=score\n",
    "print(max_score)    \n",
    "\n"
   ]
  },
  {
   "cell_type": "raw",
   "id": "b5120b8b-ee21-4335-aed6-32e2fd820d96",
   "metadata": {},
   "source": [
    "## Range\n"
   ]
  },
  {
   "cell_type": "code",
   "execution_count": null,
   "id": "cfa8a9f3-944e-4bf1-a139-433fb299e407",
   "metadata": {},
   "outputs": [],
   "source": [
    "\n",
    "-->range(a,b,c)\n",
    "->range(stop)\n",
    "->range(start, stop[, step])"
   ]
  },
  {
   "cell_type": "raw",
   "id": "8f303e42-f746-4665-a8d2-e2c9a9e2dee4",
   "metadata": {},
   "source": [
    ">>> range(10)\n",
    "[0, 1, 2, 3, 4, 5, 6, 7, 8, 9]\n",
    ">>> range(1, 11)\n",
    "[1, 2, 3, 4, 5, 6, 7, 8, 9, 10]\n",
    ">>> range(0, 30, 5)\n",
    "[0, 5, 10, 15, 20, 25]\n",
    ">>> range(0, 10, 3)\n",
    "[0, 3, 6, 9]\n",
    ">>> range(0, -10, -1)\n",
    "[0, -1, -2, -3, -4, -5, -6, -7, -8, -9]\n",
    ">>> range(0)\n",
    "[]\n",
    ">>> range(1, 0)\n",
    "[]"
   ]
  },
  {
   "cell_type": "code",
   "execution_count": 67,
   "id": "015ddf76-f91c-4a69-ac5f-cce57226829b",
   "metadata": {},
   "outputs": [
    {
     "name": "stdout",
     "output_type": "stream",
     "text": [
      "0\n",
      "1\n",
      "2\n",
      "3\n",
      "4\n",
      "5\n",
      "6\n",
      "7\n",
      "8\n",
      "9\n"
     ]
    }
   ],
   "source": [
    "for number in range(10):\n",
    "        print(number)"
   ]
  },
  {
   "cell_type": "code",
   "execution_count": 68,
   "id": "d38e65c9-69f5-414b-b0a2-3ab9330c9831",
   "metadata": {},
   "outputs": [
    {
     "name": "stdout",
     "output_type": "stream",
     "text": [
      "1\n",
      "2\n",
      "3\n",
      "4\n",
      "5\n",
      "6\n",
      "7\n",
      "8\n",
      "9\n"
     ]
    }
   ],
   "source": [
    "for number in range(1,10):\n",
    "        print(number)"
   ]
  },
  {
   "cell_type": "code",
   "execution_count": 69,
   "id": "49f40292-9d90-4f4b-bd09-1b604eb94f4a",
   "metadata": {},
   "outputs": [
    {
     "name": "stdout",
     "output_type": "stream",
     "text": [
      "1\n",
      "6\n",
      "11\n",
      "16\n",
      "21\n",
      "26\n"
     ]
    }
   ],
   "source": [
    "for number in range(1,30,5):\n",
    "        print(number)"
   ]
  },
  {
   "cell_type": "code",
   "execution_count": 70,
   "id": "5a34dbc2-ebbd-4d95-800d-3a12467c7ba8",
   "metadata": {},
   "outputs": [
    {
     "name": "stdout",
     "output_type": "stream",
     "text": [
      "0\n",
      "-1\n",
      "-2\n",
      "-3\n",
      "-4\n",
      "-5\n",
      "-6\n",
      "-7\n",
      "-8\n",
      "-9\n"
     ]
    }
   ],
   "source": [
    "for number in range(0, -10, -1):\n",
    "        print(number)"
   ]
  },
  {
   "cell_type": "code",
   "execution_count": 71,
   "id": "085ca63d-e000-4a3f-b617-a5c9fd7bc779",
   "metadata": {},
   "outputs": [],
   "source": [
    "for number in range(0):\n",
    "        print(number)"
   ]
  },
  {
   "cell_type": "code",
   "execution_count": 72,
   "id": "aa65d633-b4ba-46e3-a259-e78b7b6f871c",
   "metadata": {},
   "outputs": [],
   "source": [
    "for number in range(1,0):\n",
    "        print(number)"
   ]
  },
  {
   "cell_type": "code",
   "execution_count": 74,
   "id": "841dcc35-52fa-4199-9839-823ed563c1b5",
   "metadata": {},
   "outputs": [
    {
     "name": "stdout",
     "output_type": "stream",
     "text": [
      "5050\n"
     ]
    }
   ],
   "source": [
    "total=0\n",
    "for number in range(1,101):\n",
    "        total+=number\n",
    "\n",
    "print(total)"
   ]
  },
  {
   "cell_type": "code",
   "execution_count": null,
   "id": "93c3ddd5-9c96-4423-971f-0abba423168f",
   "metadata": {},
   "outputs": [],
   "source": [
    "FizzBuzz\n",
    "\n",
    "You are going to write a program that automatically prints the solution to the FizzBuzz game. These are the rules of the FizzBuzz game:\n",
    "Your program should print each number from 1 to 100 in turn and include number 100.\n",
    "But when the number is divisible by 3 then instead of printing the number it should print \"Fizz\".\n",
    "When the number is divisible by 5, then instead of printing the number it should print \"Buzz\".`\n",
    "And if the number is divisible by both 3 and 5 e.g. 15 then instead of the number it should print \"FizzBuzz"
   ]
  },
  {
   "cell_type": "code",
   "execution_count": 75,
   "id": "70e2776a-1112-40e8-872e-9f32e6663d04",
   "metadata": {},
   "outputs": [
    {
     "name": "stdout",
     "output_type": "stream",
     "text": [
      "1\n",
      "2\n",
      "Fizz\n",
      "4\n",
      "Buzz\n",
      "Fizz\n",
      "7\n",
      "8\n",
      "Fizz\n",
      "Buzz\n",
      "11\n",
      "Fizz\n",
      "13\n",
      "14\n",
      "FizzBuzz\n",
      "16\n",
      "17\n",
      "Fizz\n",
      "19\n",
      "Buzz\n",
      "Fizz\n",
      "22\n",
      "23\n",
      "Fizz\n",
      "Buzz\n",
      "26\n",
      "Fizz\n",
      "28\n",
      "29\n",
      "FizzBuzz\n",
      "31\n",
      "32\n",
      "Fizz\n",
      "34\n",
      "Buzz\n",
      "Fizz\n",
      "37\n",
      "38\n",
      "Fizz\n",
      "Buzz\n",
      "41\n",
      "Fizz\n",
      "43\n",
      "44\n",
      "FizzBuzz\n",
      "46\n",
      "47\n",
      "Fizz\n",
      "49\n",
      "Buzz\n",
      "Fizz\n",
      "52\n",
      "53\n",
      "Fizz\n",
      "Buzz\n",
      "56\n",
      "Fizz\n",
      "58\n",
      "59\n",
      "FizzBuzz\n",
      "61\n",
      "62\n",
      "Fizz\n",
      "64\n",
      "Buzz\n",
      "Fizz\n",
      "67\n",
      "68\n",
      "Fizz\n",
      "Buzz\n",
      "71\n",
      "Fizz\n",
      "73\n",
      "74\n",
      "FizzBuzz\n",
      "76\n",
      "77\n",
      "Fizz\n",
      "79\n",
      "Buzz\n",
      "Fizz\n",
      "82\n",
      "83\n",
      "Fizz\n",
      "Buzz\n",
      "86\n",
      "Fizz\n",
      "88\n",
      "89\n",
      "FizzBuzz\n",
      "91\n",
      "92\n",
      "Fizz\n",
      "94\n",
      "Buzz\n",
      "Fizz\n",
      "97\n",
      "98\n",
      "Fizz\n",
      "Buzz\n"
     ]
    }
   ],
   "source": [
    "for num in range(1,101):\n",
    "    if num%3==0 and num%5==0:\n",
    "        \n",
    "        print(\"FizzBuzz\")\n",
    "    \n",
    "    elif num%5==0:\n",
    "        print(\"Buzz\")\n",
    "    elif num%3==0:\n",
    "        print(\"Fizz\")    \n",
    "    \n",
    "    else:\n",
    "        print(num)"
   ]
  },
  {
   "cell_type": "code",
   "execution_count": 76,
   "id": "68064bea-21d4-4296-a992-b61e8a5dcb35",
   "metadata": {},
   "outputs": [
    {
     "name": "stdout",
     "output_type": "stream",
     "text": [
      "Welcome to the PyPassword Generator!\n"
     ]
    },
    {
     "name": "stdin",
     "output_type": "stream",
     "text": [
      "How many letters would you like in your password?  5\n",
      "How many symbols would you like?  2\n",
      "How many numbers would you like?  1\n"
     ]
    },
    {
     "name": "stdout",
     "output_type": "stream",
     "text": [
      "Your generated password is: .EaNK0f_\n"
     ]
    }
   ],
   "source": [
    "import random\n",
    "\n",
    "print(\"Welcome to the PyPassword Generator!\")\n",
    "\n",
    "letters_list = list('ABCDEFGHIJKLMNOPQRSTUVWXYZabcdefghijklmnopqrstuvwxyz')\n",
    "symbols_list = ['!', '@', '#', '$', '%', '^', '&', '*', '(', ')', '-', '_', '=', '+',\n",
    "                '[', ']', '{', '}', '\\\\', '|', ';', ':', \"'\", '\"', ',', '<', '.', '>', '/',\n",
    "                '?', '`', '~']\n",
    "numbers_list = list('0123456789')  # as characters, not integers\n",
    "\n",
    "# Convert inputs to integers\n",
    "letters = int(input(\"How many letters would you like in your password? \"))\n",
    "symbols = int(input(\"How many symbols would you like? \"))\n",
    "numbers = int(input(\"How many numbers would you like? \"))\n",
    "\n",
    "# Select characters\n",
    "selected_letters = random.choices(letters_list, k=letters)\n",
    "selected_symbols = random.choices(symbols_list, k=symbols)\n",
    "selected_numbers = random.choices(numbers_list, k=numbers)\n",
    "\n",
    "# Combine and shuffle\n",
    "password_list = selected_letters + selected_symbols + selected_numbers\n",
    "random.shuffle(password_list)\n",
    "\n",
    "# Join the list to form the password string\n",
    "password = ''.join(password_list)\n",
    "\n",
    "print(f\"Your generated password is: {password}\")"
   ]
  },
  {
   "cell_type": "code",
   "execution_count": null,
   "id": "91e85fe8-710d-4ea2-bfb2-5ba33652a27b",
   "metadata": {},
   "outputs": [],
   "source": []
  }
 ],
 "metadata": {
  "kernelspec": {
   "display_name": "Python (tf_env)",
   "language": "python",
   "name": "tf_env"
  },
  "language_info": {
   "codemirror_mode": {
    "name": "ipython",
    "version": 3
   },
   "file_extension": ".py",
   "mimetype": "text/x-python",
   "name": "python",
   "nbconvert_exporter": "python",
   "pygments_lexer": "ipython3",
   "version": "3.10.9"
  }
 },
 "nbformat": 4,
 "nbformat_minor": 5
}
