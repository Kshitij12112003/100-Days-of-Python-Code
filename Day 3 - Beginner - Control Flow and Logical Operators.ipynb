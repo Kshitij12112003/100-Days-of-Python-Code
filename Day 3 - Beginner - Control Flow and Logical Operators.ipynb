{
 "cells": [
  {
   "cell_type": "markdown",
   "id": "c9096f57-b9a2-48be-b956-35c9b55f628f",
   "metadata": {},
   "source": [
    "## Control Flow with if / else and Conditional Operators"
   ]
  },
  {
   "cell_type": "markdown",
   "id": "9519c510-c6c0-493c-8692-210c25ddc9ff",
   "metadata": {},
   "source": [
    "### if/else condition "
   ]
  },
  {
   "cell_type": "code",
   "execution_count": null,
   "id": "d0459e96-d93a-415b-8a5d-5ecb653b489b",
   "metadata": {},
   "outputs": [],
   "source": [
    "#if/else condition \n",
    "if condition:\n",
    "    do this\n",
    "else:\n",
    "    do this"
   ]
  },
  {
   "cell_type": "code",
   "execution_count": 2,
   "id": "ef795a10-c5ad-48b2-b6fe-70f42cf811ca",
   "metadata": {},
   "outputs": [
    {
     "name": "stdout",
     "output_type": "stream",
     "text": [
      "continue\n"
     ]
    }
   ],
   "source": [
    "water_level=50\n",
    "if water_level>80:\n",
    "    print(\"Drain water\")\n",
    "\n",
    "else:\n",
    "    print(\"continue\")"
   ]
  },
  {
   "cell_type": "code",
   "execution_count": 11,
   "id": "4bcc366d-a889-4296-8750-990ea56cff8e",
   "metadata": {},
   "outputs": [
    {
     "name": "stdout",
     "output_type": "stream",
     "text": [
      "Welcome to rollercoaster!\n"
     ]
    },
    {
     "name": "stdin",
     "output_type": "stream",
     "text": [
      "What is your height in cm :- 120\n"
     ]
    },
    {
     "name": "stdout",
     "output_type": "stream",
     "text": [
      "You can ride the rollercoaster!\n"
     ]
    }
   ],
   "source": [
    "#Rollercoaster-game\n",
    "\n",
    "print(\"Welcome to rollercoaster!\")\n",
    "height=int(input(\"What is your height in cm :-\"))\n",
    "if height>=120:\n",
    "    print(\"You can ride the rollercoaster!\")\n",
    "else:\n",
    "    print(\"You can't ride the rollercoaster!\")"
   ]
  },
  {
   "cell_type": "markdown",
   "id": "0e757a3d-d4ff-4e84-a819-f388de8d9d58",
   "metadata": {},
   "source": [
    "### Conditional Operators"
   ]
  },
  {
   "cell_type": "raw",
   "id": "1d10c2d2-a637-4919-863c-19da01ca3eb8",
   "metadata": {},
   "source": [
    "operator      Meaning\n",
    "  >          Greater then\n",
    "  >          less then\n",
    "  >=         Greater then or equal to\n",
    "  <=         less then or equla to\n",
    "  ==         Equla to\n",
    "  !=         Not Equal to\n"
   ]
  },
  {
   "cell_type": "raw",
   "id": "7ff7b36b-f097-48ed-a0d1-ec3cda5af41b",
   "metadata": {},
   "source": [
    "= ----->Assignment\n",
    "== ---->Check equality"
   ]
  },
  {
   "cell_type": "markdown",
   "id": "f0a11aaa-7525-40d6-945a-d08a214f1974",
   "metadata": {},
   "source": [
    "### Modulo operator(%)"
   ]
  },
  {
   "cell_type": "code",
   "execution_count": 7,
   "id": "0fee5907-2b0c-47ae-9393-ed12fbe37c96",
   "metadata": {},
   "outputs": [
    {
     "name": "stdout",
     "output_type": "stream",
     "text": [
      "0\n",
      "The history saving thread hit an unexpected error (OperationalError('attempt to write a readonly database')).History will not be written to the database.\n"
     ]
    }
   ],
   "source": [
    "print(10%2)"
   ]
  },
  {
   "cell_type": "code",
   "execution_count": 8,
   "id": "931b428b-898a-4598-bfc9-f40d8ea18a1e",
   "metadata": {},
   "outputs": [
    {
     "name": "stdout",
     "output_type": "stream",
     "text": [
      "1\n"
     ]
    }
   ],
   "source": [
    "print(10%3)"
   ]
  },
  {
   "cell_type": "code",
   "execution_count": 12,
   "id": "c7ef2e64-d0b9-4d6a-a92b-dc83423a7b53",
   "metadata": {},
   "outputs": [
    {
     "name": "stdout",
     "output_type": "stream",
     "text": [
      "Welcome to Odd or even game!\n"
     ]
    },
    {
     "name": "stdin",
     "output_type": "stream",
     "text": [
      "What number you want to check:- 145\n"
     ]
    },
    {
     "name": "stdout",
     "output_type": "stream",
     "text": [
      "This number is odd.\n"
     ]
    }
   ],
   "source": [
    "#Odd or even game\n",
    "print(\"Welcome to Odd or even game!\")\n",
    "num=int(input(\"What number you want to check:-\"))\n",
    "\n",
    "if num%2==0:\n",
    "    print(\"This number is evev.\")\n",
    "\n",
    "else:\n",
    "    print(\"This number is odd.\")"
   ]
  },
  {
   "cell_type": "markdown",
   "id": "cd561aa3-d02c-4751-8e71-70d425cc1d8e",
   "metadata": {},
   "source": [
    "### Nested if statements and elif statements"
   ]
  },
  {
   "cell_type": "code",
   "execution_count": 13,
   "id": "32221354-27a8-4811-aa3d-34b38c671d27",
   "metadata": {},
   "outputs": [
    {
     "ename": "SyntaxError",
     "evalue": "invalid syntax (2863274225.py, line 3)",
     "output_type": "error",
     "traceback": [
      "\u001b[0;36m  Cell \u001b[0;32mIn[13], line 3\u001b[0;36m\u001b[0m\n\u001b[0;31m    if another condition:\u001b[0m\n\u001b[0m               ^\u001b[0m\n\u001b[0;31mSyntaxError\u001b[0m\u001b[0;31m:\u001b[0m invalid syntax\n"
     ]
    }
   ],
   "source": [
    "#Nested if/else condition \n",
    "if condition:\n",
    "    if another condition:\n",
    "        do this\n",
    "    else:\n",
    "        do this\n",
    "else:\n",
    "    do this"
   ]
  },
  {
   "cell_type": "code",
   "execution_count": 17,
   "id": "faf85404-2ca2-4e2f-832e-97a01daace38",
   "metadata": {},
   "outputs": [
    {
     "name": "stdout",
     "output_type": "stream",
     "text": [
      "Welcome to rollercoaster!\n"
     ]
    },
    {
     "name": "stdin",
     "output_type": "stream",
     "text": [
      "What is your height in cm :- 110\n"
     ]
    },
    {
     "name": "stdout",
     "output_type": "stream",
     "text": [
      "You can't ride the rollercoaster!\n"
     ]
    }
   ],
   "source": [
    "# Rollercoaster-game\n",
    "\n",
    "print(\"Welcome to rollercoaster!\")\n",
    "height=int(input(\"What is your height in cm :-\"))\n",
    "\n",
    "\n",
    "\n",
    "if height>=120:\n",
    "    age=int(input(\"What is your age :-\"))    \n",
    "    if age <= 18:\n",
    "        print(\"You can ride the rollercoaster but you have to pay $7.\")\n",
    "\n",
    "    else:\n",
    "        print(\"You can ride the rollercoaster but you have to pay $12.\")\n",
    "else:\n",
    "    print(\"You can't ride the rollercoaster!\")"
   ]
  },
  {
   "cell_type": "code",
   "execution_count": 18,
   "id": "d94a4d82-802f-4e62-8b0d-75cd398bcc4d",
   "metadata": {},
   "outputs": [
    {
     "ename": "SyntaxError",
     "evalue": "invalid syntax (2087134183.py, line 4)",
     "output_type": "error",
     "traceback": [
      "\u001b[0;36m  Cell \u001b[0;32mIn[18], line 4\u001b[0;36m\u001b[0m\n\u001b[0;31m    do this\u001b[0m\n\u001b[0m       ^\u001b[0m\n\u001b[0;31mSyntaxError\u001b[0m\u001b[0;31m:\u001b[0m invalid syntax\n"
     ]
    }
   ],
   "source": [
    "#if/elif/else\n",
    "\n",
    "if condition1:\n",
    "    do A\n",
    "elif condition2:\n",
    "    do B\n",
    "else:\n",
    "    do c"
   ]
  },
  {
   "cell_type": "code",
   "execution_count": 21,
   "id": "a30fb22d-f7a1-42bf-842f-5d8d619012fc",
   "metadata": {},
   "outputs": [
    {
     "name": "stdout",
     "output_type": "stream",
     "text": [
      "Welcome to rollercoaster!\n"
     ]
    },
    {
     "name": "stdin",
     "output_type": "stream",
     "text": [
      "What is your height in cm :- 125\n",
      "What is your age :- 16\n"
     ]
    },
    {
     "name": "stdout",
     "output_type": "stream",
     "text": [
      "You can ride the rollercoaster but you have to pay $7.\n"
     ]
    }
   ],
   "source": [
    "# Rollercoaster-game\n",
    "\n",
    "print(\"Welcome to rollercoaster!\")\n",
    "height=int(input(\"What is your height in cm :-\"))\n",
    "\n",
    "\n",
    "\n",
    "if height>=120:\n",
    "    age=int(input(\"What is your age :-\"))    \n",
    "    if age >=18:\n",
    "        print(\"You can ride the rollercoaster but you have to pay $12.\")\n",
    "\n",
    "    elif age<=12:\n",
    "        print(\"You can ride the rollercoaster but you have to pay $5.\")\n",
    "\n",
    "    else:\n",
    "        print(\"You can ride the rollercoaster but you have to pay $7.\")\n",
    "else:\n",
    "    print(\"You can't ride the rollercoaster!\")"
   ]
  },
  {
   "cell_type": "code",
   "execution_count": 22,
   "id": "f3de8951-27bc-4818-8369-e980af9d60a5",
   "metadata": {},
   "outputs": [
    {
     "name": "stdout",
     "output_type": "stream",
     "text": [
      "normal weight\n"
     ]
    }
   ],
   "source": [
    "#BMI Calculator\n",
    "weight = 85\n",
    "height = 1.85\n",
    "\n",
    "bmi = weight / (height ** 2)\n",
    "\n",
    "if bmi < 18.5:\n",
    "    print(\"underweight\")\n",
    "if bmi >= 18.5 and bmi<25:\n",
    "    print(\"normal weight\")\n",
    "else:\n",
    "    print(\"overweight\")\n",
    "    "
   ]
  },
  {
   "cell_type": "code",
   "execution_count": 34,
   "id": "fa69a9fe-4f59-401f-8eec-c2a1e1c192a6",
   "metadata": {},
   "outputs": [
    {
     "name": "stdout",
     "output_type": "stream",
     "text": [
      "Welcome to rollercoaster!\n"
     ]
    },
    {
     "name": "stdin",
     "output_type": "stream",
     "text": [
      "What is your height in cm :- 120\n",
      "What is your age :- 12\n"
     ]
    },
    {
     "name": "stdout",
     "output_type": "stream",
     "text": [
      "Child tickets are $5.\n"
     ]
    },
    {
     "name": "stdin",
     "output_type": "stream",
     "text": [
      "Do you want to have photo take(y,n):- y\n"
     ]
    },
    {
     "name": "stdout",
     "output_type": "stream",
     "text": [
      "Total you have to pay $8\n"
     ]
    }
   ],
   "source": [
    "# Rollercoaster-game\n",
    "\n",
    "print(\"Welcome to rollercoaster!\")\n",
    "height=int(input(\"What is your height in cm :-\"))\n",
    "\n",
    "bill=0\n",
    "\n",
    "if height>=120:\n",
    "    age=int(input(\"What is your age :-\"))    \n",
    "    if age >=18:\n",
    "        bill+=12\n",
    "        print(\"Adult tickets are $12.\")\n",
    "\n",
    "    elif age<=12:\n",
    "        bill+=5\n",
    "        print(\"Child tickets are $5.\")\n",
    "\n",
    "    else:\n",
    "        bill+=7\n",
    "        print(\"Young tickets $7.\")\n",
    "    want_photo=input(\"Do you want to have photo take(y,n):-\")\n",
    "    if want_photo==\"y\":\n",
    "        bill+=3\n",
    "        print(f\"Total you have to pay ${bill}\")\n",
    "\n",
    "    else:\n",
    "        print(f\"Total you have to pay ${bill}\")\n",
    "\n",
    "    \n",
    "\n",
    "\n",
    "else:\n",
    "    print(\"You can't ride the rollercoaster!\")"
   ]
  },
  {
   "cell_type": "code",
   "execution_count": 37,
   "id": "cdb6f693-a028-4250-aabe-2f6020ac1536",
   "metadata": {},
   "outputs": [
    {
     "name": "stdout",
     "output_type": "stream",
     "text": [
      "Welcome to the Python Pizza Deliverise!\n"
     ]
    },
    {
     "name": "stdin",
     "output_type": "stream",
     "text": [
      "What size pizza you want?S,M or L? L\n",
      "Do you want extra cheese on your pizza(y,n): y\n",
      "Do you want pepperonic on your pizza(y,n): y\n"
     ]
    },
    {
     "name": "stdout",
     "output_type": "stream",
     "text": [
      "Total bill is $29\n"
     ]
    }
   ],
   "source": [
    "#Pizza Order Practice\n",
    "\n",
    "print(\"Welcome to the Python Pizza Deliverise!\")\n",
    "size=input(\"What size pizza you want?S,M or L?\")\n",
    "\n",
    "bill=0\n",
    "if size==\"S\":\n",
    "    bill+=15\n",
    "\n",
    "elif size==\"M\":\n",
    "    bill+=20\n",
    "\n",
    "else:\n",
    "    bill+=25\n",
    "\n",
    "extra_cheese=input(\"Do you want extra cheese on your pizza(y,n):\")\n",
    "\n",
    "if extra_cheese==\"y\":\n",
    "    bill+=1\n",
    "\n",
    "pepperonic=input(\"Do you want pepperonic on your pizza(y,n):\")\n",
    "\n",
    "if pepperonic ==\"y\":\n",
    "    if size==\"L\" or size==\"M\":\n",
    "        bill+=3\n",
    "\n",
    "    else:\n",
    "        bill+=2\n",
    "\n",
    "print(f\"Total bill is ${bill}\")"
   ]
  },
  {
   "cell_type": "markdown",
   "id": "ed6a14e0-4c57-4491-8c83-996eeb47d8f1",
   "metadata": {},
   "source": [
    "### Logical Operators"
   ]
  },
  {
   "cell_type": "code",
   "execution_count": null,
   "id": "cfd1d7fe-ab22-4ace-887d-785b0b50603d",
   "metadata": {},
   "outputs": [],
   "source": [
    "A and B\n",
    "C or  D\n",
    "not E\n",
    "\n"
   ]
  },
  {
   "cell_type": "code",
   "execution_count": 39,
   "id": "0455800b-676b-464e-8c41-c6bb8392ad6b",
   "metadata": {},
   "outputs": [
    {
     "name": "stdout",
     "output_type": "stream",
     "text": [
      "\n",
      "*******************************************************************************\n",
      "          |                   |                  |                     |\n",
      " _________|________________.=\"\"_;=.______________|_____________________|_______\n",
      "|                   |  ,-\"_,=\"\"     `\"=.|                  |\n",
      "|___________________|__\"=._o`\"-._        `\"=.______________|___________________\n",
      "          |                `\"=._o`\"=._      _`\"=._                     |\n",
      " _________|_____________________:=._o \"=._.\"_.-=\"'\"=.__________________|_______\n",
      "|                   |    __.--\" , ; `\"=._o.\" ,-\"\"\"-._ \".   |\n",
      "|___________________|_._\"  ,. .` ` `` ,  `\"-._\"-._   \". '__|___________________\n",
      "          |           |o`\"=._` , \"` `; .\". ,  \"-._\"-._; ;              |\n",
      " _________|___________| ;`-.o`\"=._; .\" ` '`.\"\\` . \"-._ /_______________|_______\n",
      "|                   | |o;    `\"-.o`\"=._``  '` \" ,__.--o;   |\n",
      "|___________________|_| ;     (#) `-.o `\"=.`_.--\"_o.-; ;___|___________________\n",
      "____/______/______/___|o;._    \"      `\".o|o_.--\"    ;o;____/______/______/____\n",
      "/______/______/______/_\"=._o--._        ; | ;        ; ;/______/______/______/_\n",
      "____/______/______/______/__\"=._o--._   ;o|o;     _._;o;____/______/______/____\n",
      "/______/______/______/______/____\"=._o._; | ;_.--\"o.--\"_/______/______/______/_\n",
      "____/______/______/______/______/_____\"=.o|o_.--\"\"___/______/______/______/____\n",
      "/______/______/______/______/______/______/______/______/______/______/[TomekK]\n",
      "*******************************************************************************\n",
      "\n",
      "Welcome to Treasure Island.\n",
      "Your mission is to find the treasure.\n"
     ]
    },
    {
     "name": "stdin",
     "output_type": "stream",
     "text": [
      "You are at a cross road .Where you want to go?(Type left or right):- left\n",
      "You are come to lake , this is an island middle of lake.(Type wait or swim):- wait\n",
      "You arrive at the island unharmed.There are 3 doors(red,yellow and blue) Which colour do you choose?  yellow\n"
     ]
    },
    {
     "name": "stdout",
     "output_type": "stream",
     "text": [
      "You Win!.\n"
     ]
    }
   ],
   "source": [
    "#Treasure Island\n",
    "print('''\n",
    "*******************************************************************************\n",
    "          |                   |                  |                     |\n",
    " _________|________________.=\"\"_;=.______________|_____________________|_______\n",
    "|                   |  ,-\"_,=\"\"     `\"=.|                  |\n",
    "|___________________|__\"=._o`\"-._        `\"=.______________|___________________\n",
    "          |                `\"=._o`\"=._      _`\"=._                     |\n",
    " _________|_____________________:=._o \"=._.\"_.-=\"'\"=.__________________|_______\n",
    "|                   |    __.--\" , ; `\"=._o.\" ,-\"\"\"-._ \".   |\n",
    "|___________________|_._\"  ,. .` ` `` ,  `\"-._\"-._   \". '__|___________________\n",
    "          |           |o`\"=._` , \"` `; .\". ,  \"-._\"-._; ;              |\n",
    " _________|___________| ;`-.o`\"=._; .\" ` '`.\"\\` . \"-._ /_______________|_______\n",
    "|                   | |o;    `\"-.o`\"=._``  '` \" ,__.--o;   |\n",
    "|___________________|_| ;     (#) `-.o `\"=.`_.--\"_o.-; ;___|___________________\n",
    "____/______/______/___|o;._    \"      `\".o|o_.--\"    ;o;____/______/______/____\n",
    "/______/______/______/_\"=._o--._        ; | ;        ; ;/______/______/______/_\n",
    "____/______/______/______/__\"=._o--._   ;o|o;     _._;o;____/______/______/____\n",
    "/______/______/______/______/____\"=._o._; | ;_.--\"o.--\"_/______/______/______/_\n",
    "____/______/______/______/______/_____\"=.o|o_.--\"\"___/______/______/______/____\n",
    "/______/______/______/______/______/______/______/______/______/______/[TomekK]\n",
    "*******************************************************************************\n",
    "''')\n",
    "print(\"Welcome to Treasure Island.\")\n",
    "print(\"Your mission is to find the treasure.\")\n",
    "choice1=input(\"You are at a cross road .Where you want to go?(Type left or right):-\").lower()\n",
    "\n",
    "if choice1==\"left\":\n",
    "    choice2=input(\"You are come to lake , this is an island middle of lake.(Type wait or swim):-\").lower()\n",
    "    if choice2==\"wait\":\n",
    "        choice3=input(\"You arrive at the island unharmed.There are 3 doors(red,yellow and blue) Which colour do you choose? \").lower()\n",
    "        if choice3==\"red\":\n",
    "            print(\"Burned by fire.Game Over.\")\n",
    "        elif choice3==\"blue\":\n",
    "            print(\"Eaten by beasts.Game Over.\")\n",
    "        elif choice3==\"yellow\":\n",
    "            print(\"You Win!.\")\n",
    "        else:\n",
    "            print(\"Game over!\")\n",
    "            \n",
    "    else:\n",
    "        print(\"Attacked by trout.Game Over.\")\n",
    "else:\n",
    "    print(\"Fall into a hole.Game Over.\")\n"
   ]
  },
  {
   "cell_type": "code",
   "execution_count": null,
   "id": "ef0d804d-b873-4681-829b-6c37240bb167",
   "metadata": {},
   "outputs": [],
   "source": []
  }
 ],
 "metadata": {
  "kernelspec": {
   "display_name": "Python (tf_env)",
   "language": "python",
   "name": "tf_env"
  },
  "language_info": {
   "codemirror_mode": {
    "name": "ipython",
    "version": 3
   },
   "file_extension": ".py",
   "mimetype": "text/x-python",
   "name": "python",
   "nbconvert_exporter": "python",
   "pygments_lexer": "ipython3",
   "version": "3.10.9"
  }
 },
 "nbformat": 4,
 "nbformat_minor": 5
}
