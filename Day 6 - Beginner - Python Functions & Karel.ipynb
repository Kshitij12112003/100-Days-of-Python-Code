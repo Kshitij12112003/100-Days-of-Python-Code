{
 "cells": [
  {
   "cell_type": "markdown",
   "id": "3a719fda-fe3e-4d07-843c-f0f02f7568a9",
   "metadata": {},
   "source": [
    "## Functions"
   ]
  },
  {
   "cell_type": "raw",
   "id": "9f7dcd36-15b9-4a72-8fe6-104b99e9a128",
   "metadata": {},
   "source": [
    "All this are functions\n",
    "\n",
    "A\n",
    "abs()\n",
    "aiter()\n",
    "all()\n",
    "anext()\n",
    "any()\n",
    "ascii()\n",
    "\n",
    "B\n",
    "bin()\n",
    "bool()\n",
    "breakpoint()\n",
    "bytearray()\n",
    "bytes()\n",
    "\n",
    "C\n",
    "callable()\n",
    "chr()\n",
    "classmethod()\n",
    "compile()\n",
    "complex()\n",
    "\n",
    "D\n",
    "delattr()\n",
    "dict()\n",
    "dir()\n",
    "divmod()\n",
    "\n",
    "E\n",
    "enumerate()\n",
    "eval()\n",
    "exec()\n",
    "\n",
    "F\n",
    "filter()\n",
    "float()\n",
    "format()\n",
    "frozenset()\n",
    "\n",
    "G\n",
    "getattr()\n",
    "globals()\n",
    "\n",
    "H\n",
    "hasattr()\n",
    "hash()\n",
    "help()\n",
    "hex()\n",
    "\n",
    "I\n",
    "id()\n",
    "input()\n",
    "int()\n",
    "isinstance()\n",
    "issubclass()\n",
    "iter()\n",
    "L\n",
    "len()\n",
    "list()\n",
    "locals()\n",
    "\n",
    "M\n",
    "map()\n",
    "max()\n",
    "memoryview()\n",
    "min()\n",
    "\n",
    "N\n",
    "next()\n",
    "\n",
    "O\n",
    "object()\n",
    "oct()\n",
    "open()\n",
    "ord()\n",
    "\n",
    "P\n",
    "pow()\n",
    "print()\n",
    "property()\n",
    "\n",
    "\n",
    "\n",
    "\n",
    "R\n",
    "range()\n",
    "repr()\n",
    "reversed()\n",
    "round()\n",
    "\n",
    "S\n",
    "set()\n",
    "setattr()\n",
    "slice()\n",
    "sorted()\n",
    "staticmethod()\n",
    "str()\n",
    "sum()\n",
    "super()\n",
    "\n",
    "T\n",
    "tuple()\n",
    "type()\n",
    "\n",
    "V\n",
    "vars()\n",
    "\n",
    "Z\n",
    "zip()\n",
    "\n",
    "_\n",
    "__import__()"
   ]
  },
  {
   "cell_type": "code",
   "execution_count": null,
   "id": "b3aa8870-7d25-4544-80b2-0a9538560b7c",
   "metadata": {},
   "outputs": [],
   "source": [
    "#Defining Function\n",
    "def function_name():\n",
    "    #Do this\n",
    "    #Then do this\n",
    "    #Finnaly do this\n",
    "\n",
    "\n",
    "#Calling function\n",
    "function_name()    "
   ]
  },
  {
   "cell_type": "code",
   "execution_count": 7,
   "id": "134ab43c-1836-4f82-a230-3d0ca8ac0fc4",
   "metadata": {},
   "outputs": [
    {
     "name": "stdout",
     "output_type": "stream",
     "text": [
      "Hello\n",
      "Bye\n"
     ]
    }
   ],
   "source": [
    "def my_function():\n",
    "    print(\"Hello\")\n",
    "    print(\"Bye\")\n",
    "\n",
    "my_function()"
   ]
  },
  {
   "cell_type": "code",
   "execution_count": 6,
   "id": "4e42892d-5bec-45d5-830f-27c2c9ef92c0",
   "metadata": {},
   "outputs": [
    {
     "name": "stdout",
     "output_type": "stream",
     "text": [
      "Hello\n",
      "Bye\n",
      "Hello\n",
      "Bye\n",
      "Hello\n",
      "Bye\n"
     ]
    }
   ],
   "source": [
    "def my_function():\n",
    "    print(\"Hello\")\n",
    "    print(\"Bye\")\n",
    "\n",
    "my_function()\n",
    "my_function()\n",
    "my_function()"
   ]
  },
  {
   "cell_type": "markdown",
   "id": "a1b9f8be-c6cd-4ce6-9245-407244f7f6b2",
   "metadata": {},
   "source": [
    "## For Loops"
   ]
  },
  {
   "cell_type": "code",
   "execution_count": null,
   "id": "605ae3d7-523e-476b-a36c-392ed06e9335",
   "metadata": {},
   "outputs": [],
   "source": [
    "for items in list_of_items:\n",
    "    #Do something each other\n",
    "\n",
    "for number in range(a,b):\n",
    "    print(number)\n"
   ]
  },
  {
   "cell_type": "markdown",
   "id": "333acb36-dc0d-44e9-96e7-10a63a786667",
   "metadata": {},
   "source": [
    "## While Loops\n"
   ]
  },
  {
   "cell_type": "code",
   "execution_count": null,
   "id": "e72f5363-df57-4a42-af55-3693bd968541",
   "metadata": {},
   "outputs": [],
   "source": [
    "while something_if_true:\n",
    "    #Do this.\n",
    "    #Then do also this.\n",
    "    "
   ]
  },
  {
   "cell_type": "code",
   "execution_count": null,
   "id": "2fa95821-9ddf-4c22-a71b-4cf5ec5c0281",
   "metadata": {},
   "outputs": [],
   "source": []
  },
  {
   "cell_type": "code",
   "execution_count": null,
   "id": "dc5bde01-c1f8-443a-b187-87673067d4fa",
   "metadata": {},
   "outputs": [],
   "source": []
  },
  {
   "cell_type": "code",
   "execution_count": null,
   "id": "2da83c2e-26a4-4e08-95a2-51600d2de3a7",
   "metadata": {},
   "outputs": [],
   "source": []
  }
 ],
 "metadata": {
  "kernelspec": {
   "display_name": "Python (tf_env)",
   "language": "python",
   "name": "tf_env"
  },
  "language_info": {
   "codemirror_mode": {
    "name": "ipython",
    "version": 3
   },
   "file_extension": ".py",
   "mimetype": "text/x-python",
   "name": "python",
   "nbconvert_exporter": "python",
   "pygments_lexer": "ipython3",
   "version": "3.10.9"
  }
 },
 "nbformat": 4,
 "nbformat_minor": 5
}
